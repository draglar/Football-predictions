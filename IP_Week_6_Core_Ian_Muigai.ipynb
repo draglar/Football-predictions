{
  "nbformat": 4,
  "nbformat_minor": 0,
  "metadata": {
    "colab": {
      "name": "IP_Week_6_Core_Ian_Muigai.ipynb",
      "provenance": [],
      "collapsed_sections": [
        "avZtJ-VCkYK9"
      ],
      "toc_visible": true,
      "authorship_tag": "ABX9TyN5SRYLSwz43yLPrx1xT3++",
      "include_colab_link": true
    },
    "kernelspec": {
      "name": "python3",
      "display_name": "Python 3"
    }
  },
  "cells": [
    {
      "cell_type": "markdown",
      "metadata": {
        "id": "view-in-github",
        "colab_type": "text"
      },
      "source": [
        "<a href=\"https://colab.research.google.com/github/draglar/Football-predictions/blob/main/IP_Week_6_Core_Ian_Muigai.ipynb\" target=\"_parent\"><img src=\"https://colab.research.google.com/assets/colab-badge.svg\" alt=\"Open In Colab\"/></a>"
      ]
    },
    {
      "cell_type": "markdown",
      "metadata": {
        "id": "yQ7nZC1IL0df"
      },
      "source": [
        "## "
      ]
    },
    {
      "cell_type": "markdown",
      "metadata": {
        "id": "kLG2VTrnTvYL"
      },
      "source": [
        "## 1. Defining the Question"
      ]
    },
    {
      "cell_type": "markdown",
      "metadata": {
        "id": "XecOwPNorl2W"
      },
      "source": [
        "### Specifying the Question"
      ]
    },
    {
      "cell_type": "markdown",
      "metadata": {
        "id": "XiqgxEKaMDLM"
      },
      "source": [
        "I have been recruited as a football analyst in a company - Mchezopesa Ltd and tasked to accomplish a prediction result of a game between team 1 and team 2, based on who's home and who's away, and on whether or not the game is friendly"
      ]
    },
    {
      "cell_type": "markdown",
      "metadata": {
        "id": "J4wfHZwQrs-t"
      },
      "source": [
        "###  Defining the Metric for Success"
      ]
    },
    {
      "cell_type": "markdown",
      "metadata": {
        "id": "UPaHTIh0Mabl"
      },
      "source": [
        "> I can predict the outcomes"
      ]
    },
    {
      "cell_type": "markdown",
      "metadata": {
        "id": "JViBjxfNOgsi"
      },
      "source": [
        "## The data"
      ]
    },
    {
      "cell_type": "markdown",
      "metadata": {
        "id": "YhkjkWL6Omxc"
      },
      "source": [
        "Two datasets were provided: https://drive.google.com/open?id=1BYUqaEEnFtAe5lvzJh9lpVpR2MAvERUc"
      ]
    },
    {
      "cell_type": "markdown",
      "metadata": {
        "id": "QH0c04odO3lh"
      },
      "source": [
        " Some descriptions include\n",
        "* Rank\n",
        "* Country Abbreviation\n",
        "* Total Points\n",
        "* Previous Points\n",
        "* Rank Change\n",
        "* Average Previous Years Points\n",
        "* Average Previous Years Points Weighted (50%)\n",
        "* Average 2 Years Ago Points\n",
        "* Average 2 Years Ago Points Weighted (30%)\n",
        "* Average 3 Years Ago Points\n",
        "* Average 3 Years Ago Points Weighted (20%)\n",
        "* Confederation\n",
        "* Date - date of the match\n",
        "* Home_team - the name of the home team\n",
        "* Away_team - the name of the away team\n",
        "* Home_score - full-time home team score including extra time, not including penalty-shootouts\n",
        "* Away_score - full-time away team score including extra time, not including penalty-shootouts\n",
        "* Tournament - the name of the tournament\n",
        "* City - the name of the city/town/administrative unit where the match was played\n",
        "* Country - the name of the country where the match was played\n",
        "* Neutral - TRUE/FALSE column indicating whether the match was played at a neutral venue\n"
      ]
    },
    {
      "cell_type": "markdown",
      "metadata": {
        "id": "sAyUdc-TOytZ"
      },
      "source": [
        "## Importing the data"
      ]
    },
    {
      "cell_type": "code",
      "metadata": {
        "id": "q9jDKI6mRd6T"
      },
      "source": [
        "import pandas as pd\n",
        "import numpy as np\n",
        "import matplotlib.pyplot as plt\n",
        "import seaborn as sns"
      ],
      "execution_count": 1,
      "outputs": []
    },
    {
      "cell_type": "code",
      "metadata": {
        "id": "UHl8mDLIR1Hy"
      },
      "source": [
        "ranks=pd.read_csv('fifa_ranking.csv')\n",
        "resul=pd.read_csv('results.csv')"
      ],
      "execution_count": null,
      "outputs": []
    },
    {
      "cell_type": "code",
      "metadata": {
        "id": "GeoKhqpoXiYx"
      },
      "source": [
        "ranks=pd.read_csv('https://raw.githubusercontent.com/nyamskamau/Fifa-Dataset-Week-6/main/fifa_ranking.csv')\n",
        "resul=pd.read_csv('https://raw.githubusercontent.com/nyamskamau/Fifa-Dataset-Week-6/main/results.csv')"
      ],
      "execution_count": 2,
      "outputs": []
    },
    {
      "cell_type": "code",
      "metadata": {
        "id": "96dxPfeSSDth",
        "outputId": "e698ece7-6771-440d-de83-d0845a56b6a2",
        "colab": {
          "base_uri": "https://localhost:8080/",
          "height": 222
        }
      },
      "source": [
        "ranks.head()"
      ],
      "execution_count": null,
      "outputs": [
        {
          "output_type": "execute_result",
          "data": {
            "text/html": [
              "<div>\n",
              "<style scoped>\n",
              "    .dataframe tbody tr th:only-of-type {\n",
              "        vertical-align: middle;\n",
              "    }\n",
              "\n",
              "    .dataframe tbody tr th {\n",
              "        vertical-align: top;\n",
              "    }\n",
              "\n",
              "    .dataframe thead th {\n",
              "        text-align: right;\n",
              "    }\n",
              "</style>\n",
              "<table border=\"1\" class=\"dataframe\">\n",
              "  <thead>\n",
              "    <tr style=\"text-align: right;\">\n",
              "      <th></th>\n",
              "      <th>rank</th>\n",
              "      <th>country_full</th>\n",
              "      <th>country_abrv</th>\n",
              "      <th>total_points</th>\n",
              "      <th>previous_points</th>\n",
              "      <th>rank_change</th>\n",
              "      <th>cur_year_avg</th>\n",
              "      <th>cur_year_avg_weighted</th>\n",
              "      <th>last_year_avg</th>\n",
              "      <th>last_year_avg_weighted</th>\n",
              "      <th>two_year_ago_avg</th>\n",
              "      <th>two_year_ago_weighted</th>\n",
              "      <th>three_year_ago_avg</th>\n",
              "      <th>three_year_ago_weighted</th>\n",
              "      <th>confederation</th>\n",
              "      <th>rank_date</th>\n",
              "    </tr>\n",
              "  </thead>\n",
              "  <tbody>\n",
              "    <tr>\n",
              "      <th>0</th>\n",
              "      <td>1</td>\n",
              "      <td>Germany</td>\n",
              "      <td>GER</td>\n",
              "      <td>0.0</td>\n",
              "      <td>57</td>\n",
              "      <td>0</td>\n",
              "      <td>0.0</td>\n",
              "      <td>0.0</td>\n",
              "      <td>0.0</td>\n",
              "      <td>0.0</td>\n",
              "      <td>0.0</td>\n",
              "      <td>0.0</td>\n",
              "      <td>0.0</td>\n",
              "      <td>0.0</td>\n",
              "      <td>UEFA</td>\n",
              "      <td>1993-08-08</td>\n",
              "    </tr>\n",
              "    <tr>\n",
              "      <th>1</th>\n",
              "      <td>2</td>\n",
              "      <td>Italy</td>\n",
              "      <td>ITA</td>\n",
              "      <td>0.0</td>\n",
              "      <td>57</td>\n",
              "      <td>0</td>\n",
              "      <td>0.0</td>\n",
              "      <td>0.0</td>\n",
              "      <td>0.0</td>\n",
              "      <td>0.0</td>\n",
              "      <td>0.0</td>\n",
              "      <td>0.0</td>\n",
              "      <td>0.0</td>\n",
              "      <td>0.0</td>\n",
              "      <td>UEFA</td>\n",
              "      <td>1993-08-08</td>\n",
              "    </tr>\n",
              "    <tr>\n",
              "      <th>2</th>\n",
              "      <td>3</td>\n",
              "      <td>Switzerland</td>\n",
              "      <td>SUI</td>\n",
              "      <td>0.0</td>\n",
              "      <td>50</td>\n",
              "      <td>9</td>\n",
              "      <td>0.0</td>\n",
              "      <td>0.0</td>\n",
              "      <td>0.0</td>\n",
              "      <td>0.0</td>\n",
              "      <td>0.0</td>\n",
              "      <td>0.0</td>\n",
              "      <td>0.0</td>\n",
              "      <td>0.0</td>\n",
              "      <td>UEFA</td>\n",
              "      <td>1993-08-08</td>\n",
              "    </tr>\n",
              "    <tr>\n",
              "      <th>3</th>\n",
              "      <td>4</td>\n",
              "      <td>Sweden</td>\n",
              "      <td>SWE</td>\n",
              "      <td>0.0</td>\n",
              "      <td>55</td>\n",
              "      <td>0</td>\n",
              "      <td>0.0</td>\n",
              "      <td>0.0</td>\n",
              "      <td>0.0</td>\n",
              "      <td>0.0</td>\n",
              "      <td>0.0</td>\n",
              "      <td>0.0</td>\n",
              "      <td>0.0</td>\n",
              "      <td>0.0</td>\n",
              "      <td>UEFA</td>\n",
              "      <td>1993-08-08</td>\n",
              "    </tr>\n",
              "    <tr>\n",
              "      <th>4</th>\n",
              "      <td>5</td>\n",
              "      <td>Argentina</td>\n",
              "      <td>ARG</td>\n",
              "      <td>0.0</td>\n",
              "      <td>51</td>\n",
              "      <td>5</td>\n",
              "      <td>0.0</td>\n",
              "      <td>0.0</td>\n",
              "      <td>0.0</td>\n",
              "      <td>0.0</td>\n",
              "      <td>0.0</td>\n",
              "      <td>0.0</td>\n",
              "      <td>0.0</td>\n",
              "      <td>0.0</td>\n",
              "      <td>CONMEBOL</td>\n",
              "      <td>1993-08-08</td>\n",
              "    </tr>\n",
              "  </tbody>\n",
              "</table>\n",
              "</div>"
            ],
            "text/plain": [
              "   rank country_full  ... confederation   rank_date\n",
              "0     1      Germany  ...          UEFA  1993-08-08\n",
              "1     2        Italy  ...          UEFA  1993-08-08\n",
              "2     3  Switzerland  ...          UEFA  1993-08-08\n",
              "3     4       Sweden  ...          UEFA  1993-08-08\n",
              "4     5    Argentina  ...      CONMEBOL  1993-08-08\n",
              "\n",
              "[5 rows x 16 columns]"
            ]
          },
          "metadata": {
            "tags": []
          },
          "execution_count": 3
        }
      ]
    },
    {
      "cell_type": "code",
      "metadata": {
        "id": "nSL65CLGSHOQ",
        "outputId": "30510c73-d238-4055-95de-46321431a875",
        "colab": {
          "base_uri": "https://localhost:8080/",
          "height": 202
        }
      },
      "source": [
        "resul.head()"
      ],
      "execution_count": null,
      "outputs": [
        {
          "output_type": "execute_result",
          "data": {
            "text/html": [
              "<div>\n",
              "<style scoped>\n",
              "    .dataframe tbody tr th:only-of-type {\n",
              "        vertical-align: middle;\n",
              "    }\n",
              "\n",
              "    .dataframe tbody tr th {\n",
              "        vertical-align: top;\n",
              "    }\n",
              "\n",
              "    .dataframe thead th {\n",
              "        text-align: right;\n",
              "    }\n",
              "</style>\n",
              "<table border=\"1\" class=\"dataframe\">\n",
              "  <thead>\n",
              "    <tr style=\"text-align: right;\">\n",
              "      <th></th>\n",
              "      <th>date</th>\n",
              "      <th>home_team</th>\n",
              "      <th>away_team</th>\n",
              "      <th>home_score</th>\n",
              "      <th>away_score</th>\n",
              "      <th>tournament</th>\n",
              "      <th>city</th>\n",
              "      <th>country</th>\n",
              "      <th>neutral</th>\n",
              "    </tr>\n",
              "  </thead>\n",
              "  <tbody>\n",
              "    <tr>\n",
              "      <th>0</th>\n",
              "      <td>1872-11-30</td>\n",
              "      <td>Scotland</td>\n",
              "      <td>England</td>\n",
              "      <td>0</td>\n",
              "      <td>0</td>\n",
              "      <td>Friendly</td>\n",
              "      <td>Glasgow</td>\n",
              "      <td>Scotland</td>\n",
              "      <td>False</td>\n",
              "    </tr>\n",
              "    <tr>\n",
              "      <th>1</th>\n",
              "      <td>1873-03-08</td>\n",
              "      <td>England</td>\n",
              "      <td>Scotland</td>\n",
              "      <td>4</td>\n",
              "      <td>2</td>\n",
              "      <td>Friendly</td>\n",
              "      <td>London</td>\n",
              "      <td>England</td>\n",
              "      <td>False</td>\n",
              "    </tr>\n",
              "    <tr>\n",
              "      <th>2</th>\n",
              "      <td>1874-03-07</td>\n",
              "      <td>Scotland</td>\n",
              "      <td>England</td>\n",
              "      <td>2</td>\n",
              "      <td>1</td>\n",
              "      <td>Friendly</td>\n",
              "      <td>Glasgow</td>\n",
              "      <td>Scotland</td>\n",
              "      <td>False</td>\n",
              "    </tr>\n",
              "    <tr>\n",
              "      <th>3</th>\n",
              "      <td>1875-03-06</td>\n",
              "      <td>England</td>\n",
              "      <td>Scotland</td>\n",
              "      <td>2</td>\n",
              "      <td>2</td>\n",
              "      <td>Friendly</td>\n",
              "      <td>London</td>\n",
              "      <td>England</td>\n",
              "      <td>False</td>\n",
              "    </tr>\n",
              "    <tr>\n",
              "      <th>4</th>\n",
              "      <td>1876-03-04</td>\n",
              "      <td>Scotland</td>\n",
              "      <td>England</td>\n",
              "      <td>3</td>\n",
              "      <td>0</td>\n",
              "      <td>Friendly</td>\n",
              "      <td>Glasgow</td>\n",
              "      <td>Scotland</td>\n",
              "      <td>False</td>\n",
              "    </tr>\n",
              "  </tbody>\n",
              "</table>\n",
              "</div>"
            ],
            "text/plain": [
              "         date home_team away_team  ...     city   country neutral\n",
              "0  1872-11-30  Scotland   England  ...  Glasgow  Scotland   False\n",
              "1  1873-03-08   England  Scotland  ...   London   England   False\n",
              "2  1874-03-07  Scotland   England  ...  Glasgow  Scotland   False\n",
              "3  1875-03-06   England  Scotland  ...   London   England   False\n",
              "4  1876-03-04  Scotland   England  ...  Glasgow  Scotland   False\n",
              "\n",
              "[5 rows x 9 columns]"
            ]
          },
          "metadata": {
            "tags": []
          },
          "execution_count": 4
        }
      ]
    },
    {
      "cell_type": "code",
      "metadata": {
        "id": "apFRsUBHyPk9",
        "outputId": "c5551b32-07bf-4383-ed13-5f5d40deb031",
        "colab": {
          "base_uri": "https://localhost:8080/"
        }
      },
      "source": [
        "ranks.info()"
      ],
      "execution_count": null,
      "outputs": [
        {
          "output_type": "stream",
          "text": [
            "<class 'pandas.core.frame.DataFrame'>\n",
            "RangeIndex: 57793 entries, 0 to 57792\n",
            "Data columns (total 16 columns):\n",
            " #   Column                   Non-Null Count  Dtype  \n",
            "---  ------                   --------------  -----  \n",
            " 0   rank                     57793 non-null  int64  \n",
            " 1   country_full             57793 non-null  object \n",
            " 2   country_abrv             57793 non-null  object \n",
            " 3   total_points             57793 non-null  float64\n",
            " 4   previous_points          57793 non-null  int64  \n",
            " 5   rank_change              57793 non-null  int64  \n",
            " 6   cur_year_avg             57793 non-null  float64\n",
            " 7   cur_year_avg_weighted    57793 non-null  float64\n",
            " 8   last_year_avg            57793 non-null  float64\n",
            " 9   last_year_avg_weighted   57793 non-null  float64\n",
            " 10  two_year_ago_avg         57793 non-null  float64\n",
            " 11  two_year_ago_weighted    57793 non-null  float64\n",
            " 12  three_year_ago_avg       57793 non-null  float64\n",
            " 13  three_year_ago_weighted  57793 non-null  float64\n",
            " 14  confederation            57793 non-null  object \n",
            " 15  rank_date                57793 non-null  object \n",
            "dtypes: float64(9), int64(3), object(4)\n",
            "memory usage: 7.1+ MB\n"
          ],
          "name": "stdout"
        }
      ]
    },
    {
      "cell_type": "code",
      "metadata": {
        "id": "fwiltOf2yLAs",
        "outputId": "413d73b9-19f3-4580-c3ab-eb59929c425c",
        "colab": {
          "base_uri": "https://localhost:8080/"
        }
      },
      "source": [
        "resul.info()"
      ],
      "execution_count": null,
      "outputs": [
        {
          "output_type": "stream",
          "text": [
            "<class 'pandas.core.frame.DataFrame'>\n",
            "RangeIndex: 40839 entries, 0 to 40838\n",
            "Data columns (total 9 columns):\n",
            " #   Column      Non-Null Count  Dtype \n",
            "---  ------      --------------  ----- \n",
            " 0   date        40839 non-null  object\n",
            " 1   home_team   40839 non-null  object\n",
            " 2   away_team   40839 non-null  object\n",
            " 3   home_score  40839 non-null  int64 \n",
            " 4   away_score  40839 non-null  int64 \n",
            " 5   tournament  40839 non-null  object\n",
            " 6   city        40839 non-null  object\n",
            " 7   country     40839 non-null  object\n",
            " 8   neutral     40839 non-null  bool  \n",
            "dtypes: bool(1), int64(2), object(6)\n",
            "memory usage: 2.5+ MB\n"
          ],
          "name": "stdout"
        }
      ]
    },
    {
      "cell_type": "code",
      "metadata": {
        "id": "z0koqjsfWxSR"
      },
      "source": [
        ""
      ],
      "execution_count": null,
      "outputs": []
    },
    {
      "cell_type": "markdown",
      "metadata": {
        "id": "iF7koZZyWRrZ"
      },
      "source": [
        "## Cleaning"
      ]
    },
    {
      "cell_type": "markdown",
      "metadata": {
        "id": "li6VTVXDn90g"
      },
      "source": [
        "#### changing time to date time"
      ]
    },
    {
      "cell_type": "code",
      "metadata": {
        "id": "4L0FqLlkoC65"
      },
      "source": [
        "import datetime"
      ],
      "execution_count": 3,
      "outputs": []
    },
    {
      "cell_type": "code",
      "metadata": {
        "id": "1fba2j45oLGc"
      },
      "source": [
        "ranks['rank_date']=pd.to_datetime(ranks.rank_date)\n",
        "resul['date']     =pd.to_datetime(resul.date)"
      ],
      "execution_count": 4,
      "outputs": []
    },
    {
      "cell_type": "markdown",
      "metadata": {
        "id": "63gKaNxIWpue"
      },
      "source": [
        "#### merging"
      ]
    },
    {
      "cell_type": "code",
      "metadata": {
        "id": "N-HN68RgpSoZ",
        "outputId": "8f7c1a42-ba5d-45fc-b632-c9bd152b8410",
        "colab": {
          "base_uri": "https://localhost:8080/"
        }
      },
      "source": [
        "ranks.info()"
      ],
      "execution_count": 5,
      "outputs": [
        {
          "output_type": "stream",
          "text": [
            "<class 'pandas.core.frame.DataFrame'>\n",
            "RangeIndex: 57793 entries, 0 to 57792\n",
            "Data columns (total 16 columns):\n",
            " #   Column                   Non-Null Count  Dtype         \n",
            "---  ------                   --------------  -----         \n",
            " 0   rank                     57793 non-null  int64         \n",
            " 1   country_full             57793 non-null  object        \n",
            " 2   country_abrv             57793 non-null  object        \n",
            " 3   total_points             57793 non-null  float64       \n",
            " 4   previous_points          57793 non-null  int64         \n",
            " 5   rank_change              57793 non-null  int64         \n",
            " 6   cur_year_avg             57793 non-null  float64       \n",
            " 7   cur_year_avg_weighted    57793 non-null  float64       \n",
            " 8   last_year_avg            57793 non-null  float64       \n",
            " 9   last_year_avg_weighted   57793 non-null  float64       \n",
            " 10  two_year_ago_avg         57793 non-null  float64       \n",
            " 11  two_year_ago_weighted    57793 non-null  float64       \n",
            " 12  three_year_ago_avg       57793 non-null  float64       \n",
            " 13  three_year_ago_weighted  57793 non-null  float64       \n",
            " 14  confederation            57793 non-null  object        \n",
            " 15  rank_date                57793 non-null  datetime64[ns]\n",
            "dtypes: datetime64[ns](1), float64(9), int64(3), object(3)\n",
            "memory usage: 7.1+ MB\n"
          ],
          "name": "stdout"
        }
      ]
    },
    {
      "cell_type": "code",
      "metadata": {
        "id": "PaOTFZwVpVMt",
        "outputId": "ac26ce3f-e557-4c09-b9a4-379b3daeab1f",
        "colab": {
          "base_uri": "https://localhost:8080/"
        }
      },
      "source": [
        "resul.info()"
      ],
      "execution_count": 6,
      "outputs": [
        {
          "output_type": "stream",
          "text": [
            "<class 'pandas.core.frame.DataFrame'>\n",
            "RangeIndex: 40839 entries, 0 to 40838\n",
            "Data columns (total 9 columns):\n",
            " #   Column      Non-Null Count  Dtype         \n",
            "---  ------      --------------  -----         \n",
            " 0   date        40839 non-null  datetime64[ns]\n",
            " 1   home_team   40839 non-null  object        \n",
            " 2   away_team   40839 non-null  object        \n",
            " 3   home_score  40839 non-null  int64         \n",
            " 4   away_score  40839 non-null  int64         \n",
            " 5   tournament  40839 non-null  object        \n",
            " 6   city        40839 non-null  object        \n",
            " 7   country     40839 non-null  object        \n",
            " 8   neutral     40839 non-null  bool          \n",
            "dtypes: bool(1), datetime64[ns](1), int64(2), object(5)\n",
            "memory usage: 2.5+ MB\n"
          ],
          "name": "stdout"
        }
      ]
    },
    {
      "cell_type": "markdown",
      "metadata": {
        "id": "OohjQQwEpcfA"
      },
      "source": [
        "> The only common values in both datasets are: date and country names(including home and away team names)"
      ]
    },
    {
      "cell_type": "code",
      "metadata": {
        "id": "Qm2q2Pt2wJeP",
        "outputId": "0560749e-ef52-488b-d949-3a81beb97836",
        "colab": {
          "base_uri": "https://localhost:8080/"
        }
      },
      "source": [
        "ranks['country_full'].unique().shape"
      ],
      "execution_count": 7,
      "outputs": [
        {
          "output_type": "execute_result",
          "data": {
            "text/plain": [
              "(216,)"
            ]
          },
          "metadata": {
            "tags": []
          },
          "execution_count": 7
        }
      ]
    },
    {
      "cell_type": "code",
      "metadata": {
        "id": "3swf43aYwJ7Y",
        "outputId": "d3dd8301-e213-403b-f76b-ea96858fd63a",
        "colab": {
          "base_uri": "https://localhost:8080/"
        }
      },
      "source": [
        "resul['country'].unique().shape"
      ],
      "execution_count": 8,
      "outputs": [
        {
          "output_type": "execute_result",
          "data": {
            "text/plain": [
              "(266,)"
            ]
          },
          "metadata": {
            "tags": []
          },
          "execution_count": 8
        }
      ]
    },
    {
      "cell_type": "markdown",
      "metadata": {
        "id": "ve6gMSLIwKSZ"
      },
      "source": [
        "> There are too many values from the merge on country names (10246510 )\n",
        "\n",
        "> Also the values of the dates do not match"
      ]
    },
    {
      "cell_type": "code",
      "metadata": {
        "id": "JVHNlui-y5K7",
        "outputId": "6f40a5ae-1d5e-400a-d7f2-96f31dead60e",
        "colab": {
          "base_uri": "https://localhost:8080/"
        }
      },
      "source": [
        "(pd.DatetimeIndex(ranks.rank_date).year.unique()).shape"
      ],
      "execution_count": 9,
      "outputs": [
        {
          "output_type": "execute_result",
          "data": {
            "text/plain": [
              "(26,)"
            ]
          },
          "metadata": {
            "tags": []
          },
          "execution_count": 9
        }
      ]
    },
    {
      "cell_type": "code",
      "metadata": {
        "id": "7sYTqtYGzVzJ",
        "outputId": "e2469065-a7e5-4116-bbef-a53f622112cd",
        "colab": {
          "base_uri": "https://localhost:8080/"
        }
      },
      "source": [
        "(pd.DatetimeIndex(resul.date).year.unique()).shape"
      ],
      "execution_count": 10,
      "outputs": [
        {
          "output_type": "execute_result",
          "data": {
            "text/plain": [
              "(148,)"
            ]
          },
          "metadata": {
            "tags": []
          },
          "execution_count": 10
        }
      ]
    },
    {
      "cell_type": "markdown",
      "metadata": {
        "id": "F0e89jDrzaoy"
      },
      "source": [
        "> The scope of years is not the same and cant solely be used to merge the datasets"
      ]
    },
    {
      "cell_type": "code",
      "metadata": {
        "id": "IIqr42JHu3BM",
        "outputId": "6d229cb5-0052-4651-d006-48e99655b689",
        "colab": {
          "base_uri": "https://localhost:8080/"
        }
      },
      "source": [
        "(pd.DatetimeIndex(ranks.rank_date).month.unique()).shape"
      ],
      "execution_count": 11,
      "outputs": [
        {
          "output_type": "execute_result",
          "data": {
            "text/plain": [
              "(12,)"
            ]
          },
          "metadata": {
            "tags": []
          },
          "execution_count": 11
        }
      ]
    },
    {
      "cell_type": "code",
      "metadata": {
        "id": "LCavqdPrpNSW",
        "outputId": "4b0a16ca-d650-4d9a-e07f-62bcd40289da",
        "colab": {
          "base_uri": "https://localhost:8080/"
        }
      },
      "source": [
        "(pd.DatetimeIndex(ranks.rank_date).month.unique()).shape"
      ],
      "execution_count": 12,
      "outputs": [
        {
          "output_type": "execute_result",
          "data": {
            "text/plain": [
              "(12,)"
            ]
          },
          "metadata": {
            "tags": []
          },
          "execution_count": 12
        }
      ]
    },
    {
      "cell_type": "markdown",
      "metadata": {
        "id": "o7gXhlhAvCjM"
      },
      "source": [
        "> Months are within scope"
      ]
    },
    {
      "cell_type": "code",
      "metadata": {
        "id": "kHREu4MgyXZu"
      },
      "source": [
        "ranks['month']=pd.DatetimeIndex(ranks.rank_date).month\n",
        "resul['month']=pd.DatetimeIndex(resul.date).month\n",
        "\n",
        "ranks['year']=pd.DatetimeIndex(ranks.rank_date).year\n",
        "resul['year']=pd.DatetimeIndex(resul.date).year\n",
        "\n",
        "ranks['day']=pd.DatetimeIndex(ranks.rank_date).day\n",
        "resul['day']=pd.DatetimeIndex(resul.date).day"
      ],
      "execution_count": 13,
      "outputs": []
    },
    {
      "cell_type": "markdown",
      "metadata": {
        "id": "lUDq8VO1_7Gk"
      },
      "source": [
        "> I merged on dates, however this does not match in the country names"
      ]
    },
    {
      "cell_type": "markdown",
      "metadata": {
        "id": "74sSEKtaAXgS"
      },
      "source": [
        ">merging on country name and date\n",
        "> countries names and dates match but the 950 rows? isnt that a tad bit too  small ..?\n",
        "\n",
        ">This dataset contains countries that played and got ranked on the same day only, it doesnt take into account matches that were ranked at a later date"
      ]
    },
    {
      "cell_type": "markdown",
      "metadata": {
        "id": "YYb44vZ068HV"
      },
      "source": [
        "> so i did this onece before and realised it wasnt working out cause of the model variables"
      ]
    },
    {
      "cell_type": "code",
      "metadata": {
        "id": "LiRlfDlH4sUs"
      },
      "source": [
        "merge_1=pd.merge(ranks,resul,left_on=['country_full','month','year'],right_on=['home_team','month','year'],how='inner')\n",
        "merge_2=pd.merge(ranks,resul,left_on=['country_full','month','year'],right_on=['away_team','month','year'],how='inner')\n",
        "\n",
        "#merged=pd.concat([merge_1,merge_2])"
      ],
      "execution_count": 14,
      "outputs": []
    },
    {
      "cell_type": "code",
      "metadata": {
        "id": "fOA1dXRKDCah"
      },
      "source": [
        "away=merge_2[['date','rank','home_team','away_team']]"
      ],
      "execution_count": 15,
      "outputs": []
    },
    {
      "cell_type": "code",
      "metadata": {
        "id": "RHcxhsyBBK49"
      },
      "source": [
        "merged=(pd.merge(merge_1,away,left_on=['date','home_team','away_team'],right_on=['date','home_team','away_team'],how='inner'))"
      ],
      "execution_count": 16,
      "outputs": []
    },
    {
      "cell_type": "markdown",
      "metadata": {
        "id": "iB3rBQbPMTt0"
      },
      "source": [
        "> This fits the description of the ranking dates and the countries matching"
      ]
    },
    {
      "cell_type": "markdown",
      "metadata": {
        "id": "7jZOMnKqNnBO"
      },
      "source": [
        "### Tidying the dataset"
      ]
    },
    {
      "cell_type": "markdown",
      "metadata": {
        "id": "CDmOHvcKQPDS"
      },
      "source": [
        "##### previewing the dataset"
      ]
    },
    {
      "cell_type": "markdown",
      "metadata": {
        "id": "Lo5vQN8DNukC"
      },
      "source": [
        "> Determining the no. of records in our dataset"
      ]
    },
    {
      "cell_type": "code",
      "metadata": {
        "id": "GXErz21gNUuT",
        "outputId": "2332ad32-bd7e-4a56-c92a-1a000e81b7dc",
        "colab": {
          "base_uri": "https://localhost:8080/"
        }
      },
      "source": [
        "merged.shape"
      ],
      "execution_count": 17,
      "outputs": [
        {
          "output_type": "execute_result",
          "data": {
            "text/plain": [
              "(16957, 30)"
            ]
          },
          "metadata": {
            "tags": []
          },
          "execution_count": 17
        }
      ]
    },
    {
      "cell_type": "markdown",
      "metadata": {
        "id": "rPk8xZkUNZzP"
      },
      "source": [
        "> Previewing the top of our dataset"
      ]
    },
    {
      "cell_type": "code",
      "metadata": {
        "id": "H1h2RdctNa59",
        "outputId": "b6ad019e-9a22-44e0-a068-1d9c719eaf5b",
        "colab": {
          "base_uri": "https://localhost:8080/",
          "height": 351
        }
      },
      "source": [
        "merged.head()"
      ],
      "execution_count": 18,
      "outputs": [
        {
          "output_type": "execute_result",
          "data": {
            "text/html": [
              "<div>\n",
              "<style scoped>\n",
              "    .dataframe tbody tr th:only-of-type {\n",
              "        vertical-align: middle;\n",
              "    }\n",
              "\n",
              "    .dataframe tbody tr th {\n",
              "        vertical-align: top;\n",
              "    }\n",
              "\n",
              "    .dataframe thead th {\n",
              "        text-align: right;\n",
              "    }\n",
              "</style>\n",
              "<table border=\"1\" class=\"dataframe\">\n",
              "  <thead>\n",
              "    <tr style=\"text-align: right;\">\n",
              "      <th></th>\n",
              "      <th>rank_x</th>\n",
              "      <th>country_full</th>\n",
              "      <th>country_abrv</th>\n",
              "      <th>total_points</th>\n",
              "      <th>previous_points</th>\n",
              "      <th>rank_change</th>\n",
              "      <th>cur_year_avg</th>\n",
              "      <th>cur_year_avg_weighted</th>\n",
              "      <th>last_year_avg</th>\n",
              "      <th>last_year_avg_weighted</th>\n",
              "      <th>two_year_ago_avg</th>\n",
              "      <th>two_year_ago_weighted</th>\n",
              "      <th>three_year_ago_avg</th>\n",
              "      <th>three_year_ago_weighted</th>\n",
              "      <th>confederation</th>\n",
              "      <th>rank_date</th>\n",
              "      <th>month</th>\n",
              "      <th>year</th>\n",
              "      <th>day_x</th>\n",
              "      <th>date</th>\n",
              "      <th>home_team</th>\n",
              "      <th>away_team</th>\n",
              "      <th>home_score</th>\n",
              "      <th>away_score</th>\n",
              "      <th>tournament</th>\n",
              "      <th>city</th>\n",
              "      <th>country</th>\n",
              "      <th>neutral</th>\n",
              "      <th>day_y</th>\n",
              "      <th>rank_y</th>\n",
              "    </tr>\n",
              "  </thead>\n",
              "  <tbody>\n",
              "    <tr>\n",
              "      <th>0</th>\n",
              "      <td>4</td>\n",
              "      <td>Sweden</td>\n",
              "      <td>SWE</td>\n",
              "      <td>0.0</td>\n",
              "      <td>55</td>\n",
              "      <td>0</td>\n",
              "      <td>0.0</td>\n",
              "      <td>0.0</td>\n",
              "      <td>0.0</td>\n",
              "      <td>0.0</td>\n",
              "      <td>0.0</td>\n",
              "      <td>0.0</td>\n",
              "      <td>0.0</td>\n",
              "      <td>0.0</td>\n",
              "      <td>UEFA</td>\n",
              "      <td>1993-08-08</td>\n",
              "      <td>8</td>\n",
              "      <td>1993</td>\n",
              "      <td>8</td>\n",
              "      <td>1993-08-11</td>\n",
              "      <td>Sweden</td>\n",
              "      <td>Switzerland</td>\n",
              "      <td>1</td>\n",
              "      <td>2</td>\n",
              "      <td>Friendly</td>\n",
              "      <td>Borås</td>\n",
              "      <td>Sweden</td>\n",
              "      <td>False</td>\n",
              "      <td>11</td>\n",
              "      <td>3</td>\n",
              "    </tr>\n",
              "    <tr>\n",
              "      <th>1</th>\n",
              "      <td>4</td>\n",
              "      <td>Sweden</td>\n",
              "      <td>SWE</td>\n",
              "      <td>0.0</td>\n",
              "      <td>55</td>\n",
              "      <td>0</td>\n",
              "      <td>0.0</td>\n",
              "      <td>0.0</td>\n",
              "      <td>0.0</td>\n",
              "      <td>0.0</td>\n",
              "      <td>0.0</td>\n",
              "      <td>0.0</td>\n",
              "      <td>0.0</td>\n",
              "      <td>0.0</td>\n",
              "      <td>UEFA</td>\n",
              "      <td>1993-08-08</td>\n",
              "      <td>8</td>\n",
              "      <td>1993</td>\n",
              "      <td>8</td>\n",
              "      <td>1993-08-22</td>\n",
              "      <td>Sweden</td>\n",
              "      <td>France</td>\n",
              "      <td>1</td>\n",
              "      <td>1</td>\n",
              "      <td>FIFA World Cup qualification</td>\n",
              "      <td>Solna</td>\n",
              "      <td>Sweden</td>\n",
              "      <td>False</td>\n",
              "      <td>22</td>\n",
              "      <td>12</td>\n",
              "    </tr>\n",
              "    <tr>\n",
              "      <th>2</th>\n",
              "      <td>5</td>\n",
              "      <td>Argentina</td>\n",
              "      <td>ARG</td>\n",
              "      <td>0.0</td>\n",
              "      <td>51</td>\n",
              "      <td>5</td>\n",
              "      <td>0.0</td>\n",
              "      <td>0.0</td>\n",
              "      <td>0.0</td>\n",
              "      <td>0.0</td>\n",
              "      <td>0.0</td>\n",
              "      <td>0.0</td>\n",
              "      <td>0.0</td>\n",
              "      <td>0.0</td>\n",
              "      <td>CONMEBOL</td>\n",
              "      <td>1993-08-08</td>\n",
              "      <td>8</td>\n",
              "      <td>1993</td>\n",
              "      <td>8</td>\n",
              "      <td>1993-08-22</td>\n",
              "      <td>Argentina</td>\n",
              "      <td>Peru</td>\n",
              "      <td>2</td>\n",
              "      <td>1</td>\n",
              "      <td>FIFA World Cup qualification</td>\n",
              "      <td>Buenos Aires</td>\n",
              "      <td>Argentina</td>\n",
              "      <td>False</td>\n",
              "      <td>22</td>\n",
              "      <td>70</td>\n",
              "    </tr>\n",
              "    <tr>\n",
              "      <th>3</th>\n",
              "      <td>5</td>\n",
              "      <td>Argentina</td>\n",
              "      <td>ARG</td>\n",
              "      <td>0.0</td>\n",
              "      <td>51</td>\n",
              "      <td>5</td>\n",
              "      <td>0.0</td>\n",
              "      <td>0.0</td>\n",
              "      <td>0.0</td>\n",
              "      <td>0.0</td>\n",
              "      <td>0.0</td>\n",
              "      <td>0.0</td>\n",
              "      <td>0.0</td>\n",
              "      <td>0.0</td>\n",
              "      <td>CONMEBOL</td>\n",
              "      <td>1993-08-08</td>\n",
              "      <td>8</td>\n",
              "      <td>1993</td>\n",
              "      <td>8</td>\n",
              "      <td>1993-08-29</td>\n",
              "      <td>Argentina</td>\n",
              "      <td>Paraguay</td>\n",
              "      <td>0</td>\n",
              "      <td>0</td>\n",
              "      <td>FIFA World Cup qualification</td>\n",
              "      <td>Buenos Aires</td>\n",
              "      <td>Argentina</td>\n",
              "      <td>False</td>\n",
              "      <td>29</td>\n",
              "      <td>67</td>\n",
              "    </tr>\n",
              "    <tr>\n",
              "      <th>4</th>\n",
              "      <td>8</td>\n",
              "      <td>Brazil</td>\n",
              "      <td>BRA</td>\n",
              "      <td>0.0</td>\n",
              "      <td>55</td>\n",
              "      <td>-5</td>\n",
              "      <td>0.0</td>\n",
              "      <td>0.0</td>\n",
              "      <td>0.0</td>\n",
              "      <td>0.0</td>\n",
              "      <td>0.0</td>\n",
              "      <td>0.0</td>\n",
              "      <td>0.0</td>\n",
              "      <td>0.0</td>\n",
              "      <td>CONMEBOL</td>\n",
              "      <td>1993-08-08</td>\n",
              "      <td>8</td>\n",
              "      <td>1993</td>\n",
              "      <td>8</td>\n",
              "      <td>1993-08-08</td>\n",
              "      <td>Brazil</td>\n",
              "      <td>Mexico</td>\n",
              "      <td>1</td>\n",
              "      <td>1</td>\n",
              "      <td>Friendly</td>\n",
              "      <td>Maceió</td>\n",
              "      <td>Brazil</td>\n",
              "      <td>False</td>\n",
              "      <td>8</td>\n",
              "      <td>14</td>\n",
              "    </tr>\n",
              "  </tbody>\n",
              "</table>\n",
              "</div>"
            ],
            "text/plain": [
              "   rank_x country_full country_abrv  ...  neutral  day_y  rank_y\n",
              "0       4       Sweden          SWE  ...    False     11       3\n",
              "1       4       Sweden          SWE  ...    False     22      12\n",
              "2       5    Argentina          ARG  ...    False     22      70\n",
              "3       5    Argentina          ARG  ...    False     29      67\n",
              "4       8       Brazil          BRA  ...    False      8      14\n",
              "\n",
              "[5 rows x 30 columns]"
            ]
          },
          "metadata": {
            "tags": []
          },
          "execution_count": 18
        }
      ]
    },
    {
      "cell_type": "markdown",
      "metadata": {
        "id": "xiN-beUPNf3K"
      },
      "source": [
        "> Previewing the top of our dataset"
      ]
    },
    {
      "cell_type": "code",
      "metadata": {
        "id": "EPqIEJnyNdN8",
        "outputId": "63e3a085-6ab4-4e0a-e2f1-75b36c9df1fc",
        "colab": {
          "base_uri": "https://localhost:8080/",
          "height": 301
        }
      },
      "source": [
        "merged.tail()"
      ],
      "execution_count": 19,
      "outputs": [
        {
          "output_type": "execute_result",
          "data": {
            "text/html": [
              "<div>\n",
              "<style scoped>\n",
              "    .dataframe tbody tr th:only-of-type {\n",
              "        vertical-align: middle;\n",
              "    }\n",
              "\n",
              "    .dataframe tbody tr th {\n",
              "        vertical-align: top;\n",
              "    }\n",
              "\n",
              "    .dataframe thead th {\n",
              "        text-align: right;\n",
              "    }\n",
              "</style>\n",
              "<table border=\"1\" class=\"dataframe\">\n",
              "  <thead>\n",
              "    <tr style=\"text-align: right;\">\n",
              "      <th></th>\n",
              "      <th>rank_x</th>\n",
              "      <th>country_full</th>\n",
              "      <th>country_abrv</th>\n",
              "      <th>total_points</th>\n",
              "      <th>previous_points</th>\n",
              "      <th>rank_change</th>\n",
              "      <th>cur_year_avg</th>\n",
              "      <th>cur_year_avg_weighted</th>\n",
              "      <th>last_year_avg</th>\n",
              "      <th>last_year_avg_weighted</th>\n",
              "      <th>two_year_ago_avg</th>\n",
              "      <th>two_year_ago_weighted</th>\n",
              "      <th>three_year_ago_avg</th>\n",
              "      <th>three_year_ago_weighted</th>\n",
              "      <th>confederation</th>\n",
              "      <th>rank_date</th>\n",
              "      <th>month</th>\n",
              "      <th>year</th>\n",
              "      <th>day_x</th>\n",
              "      <th>date</th>\n",
              "      <th>home_team</th>\n",
              "      <th>away_team</th>\n",
              "      <th>home_score</th>\n",
              "      <th>away_score</th>\n",
              "      <th>tournament</th>\n",
              "      <th>city</th>\n",
              "      <th>country</th>\n",
              "      <th>neutral</th>\n",
              "      <th>day_y</th>\n",
              "      <th>rank_y</th>\n",
              "    </tr>\n",
              "  </thead>\n",
              "  <tbody>\n",
              "    <tr>\n",
              "      <th>16952</th>\n",
              "      <td>137</td>\n",
              "      <td>Angola</td>\n",
              "      <td>ANG</td>\n",
              "      <td>209.08</td>\n",
              "      <td>221</td>\n",
              "      <td>1</td>\n",
              "      <td>114.90</td>\n",
              "      <td>114.90</td>\n",
              "      <td>50.82</td>\n",
              "      <td>25.41</td>\n",
              "      <td>107.40</td>\n",
              "      <td>32.22</td>\n",
              "      <td>182.75</td>\n",
              "      <td>36.55</td>\n",
              "      <td>CAF</td>\n",
              "      <td>2018-06-07</td>\n",
              "      <td>6</td>\n",
              "      <td>2018</td>\n",
              "      <td>7</td>\n",
              "      <td>2018-06-01</td>\n",
              "      <td>Angola</td>\n",
              "      <td>Malawi</td>\n",
              "      <td>0</td>\n",
              "      <td>0</td>\n",
              "      <td>COSAFA Cup</td>\n",
              "      <td>Polokwane</td>\n",
              "      <td>South Africa</td>\n",
              "      <td>True</td>\n",
              "      <td>1</td>\n",
              "      <td>123</td>\n",
              "    </tr>\n",
              "    <tr>\n",
              "      <th>16953</th>\n",
              "      <td>139</td>\n",
              "      <td>Botswana</td>\n",
              "      <td>BOT</td>\n",
              "      <td>204.52</td>\n",
              "      <td>195</td>\n",
              "      <td>3</td>\n",
              "      <td>79.64</td>\n",
              "      <td>79.64</td>\n",
              "      <td>67.76</td>\n",
              "      <td>33.88</td>\n",
              "      <td>223.42</td>\n",
              "      <td>67.03</td>\n",
              "      <td>119.88</td>\n",
              "      <td>23.98</td>\n",
              "      <td>CAF</td>\n",
              "      <td>2018-06-07</td>\n",
              "      <td>6</td>\n",
              "      <td>2018</td>\n",
              "      <td>7</td>\n",
              "      <td>2018-06-01</td>\n",
              "      <td>Botswana</td>\n",
              "      <td>Mauritius</td>\n",
              "      <td>6</td>\n",
              "      <td>0</td>\n",
              "      <td>COSAFA Cup</td>\n",
              "      <td>Polokwane</td>\n",
              "      <td>South Africa</td>\n",
              "      <td>True</td>\n",
              "      <td>1</td>\n",
              "      <td>155</td>\n",
              "    </tr>\n",
              "    <tr>\n",
              "      <th>16954</th>\n",
              "      <td>147</td>\n",
              "      <td>Lesotho</td>\n",
              "      <td>LES</td>\n",
              "      <td>175.48</td>\n",
              "      <td>172</td>\n",
              "      <td>3</td>\n",
              "      <td>78.24</td>\n",
              "      <td>78.24</td>\n",
              "      <td>108.80</td>\n",
              "      <td>54.40</td>\n",
              "      <td>63.33</td>\n",
              "      <td>19.00</td>\n",
              "      <td>119.20</td>\n",
              "      <td>23.84</td>\n",
              "      <td>CAF</td>\n",
              "      <td>2018-06-07</td>\n",
              "      <td>6</td>\n",
              "      <td>2018</td>\n",
              "      <td>7</td>\n",
              "      <td>2018-06-06</td>\n",
              "      <td>Lesotho</td>\n",
              "      <td>Zimbabwe</td>\n",
              "      <td>0</td>\n",
              "      <td>0</td>\n",
              "      <td>COSAFA Cup</td>\n",
              "      <td>Polokwane</td>\n",
              "      <td>South Africa</td>\n",
              "      <td>True</td>\n",
              "      <td>6</td>\n",
              "      <td>118</td>\n",
              "    </tr>\n",
              "    <tr>\n",
              "      <th>16955</th>\n",
              "      <td>160</td>\n",
              "      <td>Barbados</td>\n",
              "      <td>BRB</td>\n",
              "      <td>127.07</td>\n",
              "      <td>129</td>\n",
              "      <td>-2</td>\n",
              "      <td>54.64</td>\n",
              "      <td>54.64</td>\n",
              "      <td>0.00</td>\n",
              "      <td>0.00</td>\n",
              "      <td>141.95</td>\n",
              "      <td>42.59</td>\n",
              "      <td>149.22</td>\n",
              "      <td>29.84</td>\n",
              "      <td>CONCACAF</td>\n",
              "      <td>2018-06-07</td>\n",
              "      <td>6</td>\n",
              "      <td>2018</td>\n",
              "      <td>7</td>\n",
              "      <td>2018-06-03</td>\n",
              "      <td>Barbados</td>\n",
              "      <td>Belize</td>\n",
              "      <td>0</td>\n",
              "      <td>0</td>\n",
              "      <td>Friendly</td>\n",
              "      <td>Bridgetown</td>\n",
              "      <td>Barbados</td>\n",
              "      <td>False</td>\n",
              "      <td>3</td>\n",
              "      <td>163</td>\n",
              "    </tr>\n",
              "    <tr>\n",
              "      <th>16956</th>\n",
              "      <td>184</td>\n",
              "      <td>Malta</td>\n",
              "      <td>MLT</td>\n",
              "      <td>65.11</td>\n",
              "      <td>62</td>\n",
              "      <td>1</td>\n",
              "      <td>29.90</td>\n",
              "      <td>29.90</td>\n",
              "      <td>11.74</td>\n",
              "      <td>5.87</td>\n",
              "      <td>64.57</td>\n",
              "      <td>19.37</td>\n",
              "      <td>49.85</td>\n",
              "      <td>9.97</td>\n",
              "      <td>UEFA</td>\n",
              "      <td>2018-06-07</td>\n",
              "      <td>6</td>\n",
              "      <td>2018</td>\n",
              "      <td>7</td>\n",
              "      <td>2018-06-01</td>\n",
              "      <td>Malta</td>\n",
              "      <td>Georgia</td>\n",
              "      <td>0</td>\n",
              "      <td>1</td>\n",
              "      <td>Friendly</td>\n",
              "      <td>Schwaz</td>\n",
              "      <td>Austria</td>\n",
              "      <td>True</td>\n",
              "      <td>1</td>\n",
              "      <td>96</td>\n",
              "    </tr>\n",
              "  </tbody>\n",
              "</table>\n",
              "</div>"
            ],
            "text/plain": [
              "       rank_x country_full country_abrv  ...  neutral  day_y  rank_y\n",
              "16952     137       Angola          ANG  ...     True      1     123\n",
              "16953     139     Botswana          BOT  ...     True      1     155\n",
              "16954     147      Lesotho          LES  ...     True      6     118\n",
              "16955     160     Barbados          BRB  ...    False      3     163\n",
              "16956     184        Malta          MLT  ...     True      1      96\n",
              "\n",
              "[5 rows x 30 columns]"
            ]
          },
          "metadata": {
            "tags": []
          },
          "execution_count": 19
        }
      ]
    },
    {
      "cell_type": "markdown",
      "metadata": {
        "id": "TT3y76yGQjOz"
      },
      "source": [
        "##### Checking for null and duplicates"
      ]
    },
    {
      "cell_type": "code",
      "metadata": {
        "id": "vXXkVIeocUZP",
        "outputId": "efd934c4-b9f4-4474-cead-bcda3f5029b2",
        "colab": {
          "base_uri": "https://localhost:8080/"
        }
      },
      "source": [
        "merged.isna().sum()"
      ],
      "execution_count": 20,
      "outputs": [
        {
          "output_type": "execute_result",
          "data": {
            "text/plain": [
              "rank_x                     0\n",
              "country_full               0\n",
              "country_abrv               0\n",
              "total_points               0\n",
              "previous_points            0\n",
              "rank_change                0\n",
              "cur_year_avg               0\n",
              "cur_year_avg_weighted      0\n",
              "last_year_avg              0\n",
              "last_year_avg_weighted     0\n",
              "two_year_ago_avg           0\n",
              "two_year_ago_weighted      0\n",
              "three_year_ago_avg         0\n",
              "three_year_ago_weighted    0\n",
              "confederation              0\n",
              "rank_date                  0\n",
              "month                      0\n",
              "year                       0\n",
              "day_x                      0\n",
              "date                       0\n",
              "home_team                  0\n",
              "away_team                  0\n",
              "home_score                 0\n",
              "away_score                 0\n",
              "tournament                 0\n",
              "city                       0\n",
              "country                    0\n",
              "neutral                    0\n",
              "day_y                      0\n",
              "rank_y                     0\n",
              "dtype: int64"
            ]
          },
          "metadata": {
            "tags": []
          },
          "execution_count": 20
        }
      ]
    },
    {
      "cell_type": "markdown",
      "metadata": {
        "id": "mH_4NNVjNhuW"
      },
      "source": [
        "There were no null values"
      ]
    },
    {
      "cell_type": "code",
      "metadata": {
        "id": "nLgJWqH4Yu8x",
        "outputId": "a5dd60da-fc22-4fd0-de6e-8cff412a5a02",
        "colab": {
          "base_uri": "https://localhost:8080/"
        }
      },
      "source": [
        "merged.duplicated().sum()"
      ],
      "execution_count": 21,
      "outputs": [
        {
          "output_type": "execute_result",
          "data": {
            "text/plain": [
              "53"
            ]
          },
          "metadata": {
            "tags": []
          },
          "execution_count": 21
        }
      ]
    },
    {
      "cell_type": "code",
      "metadata": {
        "id": "nRhHEm70aBsO"
      },
      "source": [
        "merged.drop_duplicates(inplace=True)"
      ],
      "execution_count": 22,
      "outputs": []
    },
    {
      "cell_type": "markdown",
      "metadata": {
        "id": "Oo8xGy7yNqI5"
      },
      "source": [
        "> The 53 duplicates were dropped"
      ]
    },
    {
      "cell_type": "markdown",
      "metadata": {
        "id": "CRRH4j6mQVHV"
      },
      "source": [
        "##### Renaming and droping columns"
      ]
    },
    {
      "cell_type": "code",
      "metadata": {
        "id": "TanUK5jRX2sZ"
      },
      "source": [
        "merged=merged.rename(columns ={\n",
        "        'day_x':'ranked_day',\n",
        "        'day_y':'match_day',\n",
        "        'rank_x':'home_rank',\n",
        "        'rank_y':'away_rank'\n",
        "    })"
      ],
      "execution_count": 23,
      "outputs": []
    },
    {
      "cell_type": "code",
      "metadata": {
        "id": "FlebCsCEXZqQ",
        "outputId": "6481d0d1-8d88-4ed8-9cec-3ec7b7180980",
        "colab": {
          "base_uri": "https://localhost:8080/"
        }
      },
      "source": [
        "merged.info()"
      ],
      "execution_count": 24,
      "outputs": [
        {
          "output_type": "stream",
          "text": [
            "<class 'pandas.core.frame.DataFrame'>\n",
            "Int64Index: 16904 entries, 0 to 16956\n",
            "Data columns (total 30 columns):\n",
            " #   Column                   Non-Null Count  Dtype         \n",
            "---  ------                   --------------  -----         \n",
            " 0   home_rank                16904 non-null  int64         \n",
            " 1   country_full             16904 non-null  object        \n",
            " 2   country_abrv             16904 non-null  object        \n",
            " 3   total_points             16904 non-null  float64       \n",
            " 4   previous_points          16904 non-null  int64         \n",
            " 5   rank_change              16904 non-null  int64         \n",
            " 6   cur_year_avg             16904 non-null  float64       \n",
            " 7   cur_year_avg_weighted    16904 non-null  float64       \n",
            " 8   last_year_avg            16904 non-null  float64       \n",
            " 9   last_year_avg_weighted   16904 non-null  float64       \n",
            " 10  two_year_ago_avg         16904 non-null  float64       \n",
            " 11  two_year_ago_weighted    16904 non-null  float64       \n",
            " 12  three_year_ago_avg       16904 non-null  float64       \n",
            " 13  three_year_ago_weighted  16904 non-null  float64       \n",
            " 14  confederation            16904 non-null  object        \n",
            " 15  rank_date                16904 non-null  datetime64[ns]\n",
            " 16  month                    16904 non-null  int64         \n",
            " 17  year                     16904 non-null  int64         \n",
            " 18  ranked_day               16904 non-null  int64         \n",
            " 19  date                     16904 non-null  datetime64[ns]\n",
            " 20  home_team                16904 non-null  object        \n",
            " 21  away_team                16904 non-null  object        \n",
            " 22  home_score               16904 non-null  int64         \n",
            " 23  away_score               16904 non-null  int64         \n",
            " 24  tournament               16904 non-null  object        \n",
            " 25  city                     16904 non-null  object        \n",
            " 26  country                  16904 non-null  object        \n",
            " 27  neutral                  16904 non-null  bool          \n",
            " 28  match_day                16904 non-null  int64         \n",
            " 29  away_rank                16904 non-null  int64         \n",
            "dtypes: bool(1), datetime64[ns](2), float64(9), int64(10), object(8)\n",
            "memory usage: 3.9+ MB\n"
          ],
          "name": "stdout"
        }
      ]
    },
    {
      "cell_type": "code",
      "metadata": {
        "id": "3sswLbFPznzp",
        "outputId": "351ea6cd-6439-4b6a-d31f-1de8ae20a89e",
        "colab": {
          "base_uri": "https://localhost:8080/"
        }
      },
      "source": [
        "merged.confederation.unique()"
      ],
      "execution_count": 25,
      "outputs": [
        {
          "output_type": "execute_result",
          "data": {
            "text/plain": [
              "array(['UEFA', 'CONMEBOL', 'AFC', 'CAF', 'CONCACAF', 'OFC'], dtype=object)"
            ]
          },
          "metadata": {
            "tags": []
          },
          "execution_count": 25
        }
      ]
    },
    {
      "cell_type": "code",
      "metadata": {
        "id": "8ww5dZ-90qRa",
        "outputId": "f70c63e7-1e74-4f4b-cb7d-e4f0627188aa",
        "colab": {
          "base_uri": "https://localhost:8080/"
        }
      },
      "source": [
        "merged.tournament.unique()"
      ],
      "execution_count": 26,
      "outputs": [
        {
          "output_type": "execute_result",
          "data": {
            "text/plain": [
              "array(['Friendly', 'FIFA World Cup qualification',\n",
              "       'African Cup of Nations qualification', 'Amílcar Cabral Cup',\n",
              "       'United Arab Emirates Friendship Tournament',\n",
              "       'Malta International Tournament', 'African Cup of Nations',\n",
              "       'CFU Caribbean Cup qualification', 'UEFA Euro qualification',\n",
              "       'CFU Caribbean Cup', 'Kirin Cup', 'FIFA World Cup', 'Baltic Cup',\n",
              "       'Oceania Nations Cup qualification', 'Gulf Cup',\n",
              "       'Simba Tournament', 'CECAFA Cup', 'Dynasty Cup', \"King's Cup\",\n",
              "       'SAFF Cup', 'Copa Paz del Chaco', 'USA Cup', 'Korea Cup',\n",
              "       'Copa América', 'Merdeka Tournament', 'South Pacific Games',\n",
              "       'UNCAF Cup', 'Oceania Nations Cup', 'Windward Islands Tournament',\n",
              "       'Gold Cup', 'AFC Asian Cup qualification', 'Lunar New Year Cup',\n",
              "       'AFF Championship', 'King Hassan II Tournament', 'AFC Asian Cup',\n",
              "       'Cyprus International Tournament', 'Dunhill Cup', 'Nehru Cup',\n",
              "       'COSAFA Cup', 'Tournoi de France', 'Confederations Cup',\n",
              "       'UAFA Cup', 'Gold Cup qualification', 'UNIFFAC Cup',\n",
              "       'Nordic Championship', 'WAFF Championship', 'UEFA Euro',\n",
              "       'Millennium Cup', \"Prime Minister's Cup\", 'SKN Football Festival',\n",
              "       'EAFF Championship', 'AFC Challenge Cup', 'Copa del Pacífico',\n",
              "       'UAFA Cup qualification', 'AFC Challenge Cup qualification',\n",
              "       'African Nations Championship', 'VFF Cup', 'Dragon Cup',\n",
              "       'Nile Basin Tournament', 'Nations Cup', 'Pacific Games',\n",
              "       'ABCS Tournament', 'OSN Cup', 'Copa América qualification',\n",
              "       'Intercontinental Cup'], dtype=object)"
            ]
          },
          "metadata": {
            "tags": []
          },
          "execution_count": 26
        }
      ]
    },
    {
      "cell_type": "code",
      "metadata": {
        "id": "dAEHPOCAWXGj"
      },
      "source": [
        "merged.drop(['confederation','country_abrv','country'],axis=1,inplace=True)"
      ],
      "execution_count": 27,
      "outputs": []
    },
    {
      "cell_type": "markdown",
      "metadata": {
        "id": "e7tN3Pmbn4kz"
      },
      "source": [
        "##### Renaming tournament type"
      ]
    },
    {
      "cell_type": "markdown",
      "metadata": {
        "id": "97yFw-oMHWRw"
      },
      "source": [
        "> The question asks for Tournament type (World cup, Friendly, Other)"
      ]
    },
    {
      "cell_type": "code",
      "metadata": {
        "id": "F_8ni2PK0_Ip",
        "outputId": "da55144c-f1ee-4767-fc69-ca81b1dc79de",
        "colab": {
          "base_uri": "https://localhost:8080/"
        }
      },
      "source": [
        "(merged.tournament.str.split(' ',expand=True))[0].unique()"
      ],
      "execution_count": 28,
      "outputs": [
        {
          "output_type": "execute_result",
          "data": {
            "text/plain": [
              "array(['Friendly', 'FIFA', 'African', 'Amílcar', 'United', 'Malta', 'CFU',\n",
              "       'UEFA', 'Kirin', 'Baltic', 'Oceania', 'Gulf', 'Simba', 'CECAFA',\n",
              "       'Dynasty', \"King's\", 'SAFF', 'Copa', 'USA', 'Korea', 'Merdeka',\n",
              "       'South', 'UNCAF', 'Windward', 'Gold', 'AFC', 'Lunar', 'AFF',\n",
              "       'King', 'Cyprus', 'Dunhill', 'Nehru', 'COSAFA', 'Tournoi',\n",
              "       'Confederations', 'UAFA', 'UNIFFAC', 'Nordic', 'WAFF',\n",
              "       'Millennium', 'Prime', 'SKN', 'EAFF', 'VFF', 'Dragon', 'Nile',\n",
              "       'Nations', 'Pacific', 'ABCS', 'OSN', 'Intercontinental'],\n",
              "      dtype=object)"
            ]
          },
          "metadata": {
            "tags": []
          },
          "execution_count": 28
        }
      ]
    },
    {
      "cell_type": "code",
      "metadata": {
        "id": "-f3WqPlCDZYa",
        "outputId": "56401f33-8466-4748-8641-172d6d444eac",
        "colab": {
          "base_uri": "https://localhost:8080/"
        }
      },
      "source": [
        "merged.tournament.str.contains('World','cup').value_counts()"
      ],
      "execution_count": 29,
      "outputs": [
        {
          "output_type": "execute_result",
          "data": {
            "text/plain": [
              "False    12786\n",
              "True      4118\n",
              "Name: tournament, dtype: int64"
            ]
          },
          "metadata": {
            "tags": []
          },
          "execution_count": 29
        }
      ]
    },
    {
      "cell_type": "code",
      "metadata": {
        "id": "fB-GaWlBD2SR",
        "outputId": "d5aae5e6-812a-4d49-9b6e-c0706e98dfca",
        "colab": {
          "base_uri": "https://localhost:8080/"
        }
      },
      "source": [
        "merged['tournament'][merged.tournament.str.contains('World','cup')==True]='world cup'"
      ],
      "execution_count": 30,
      "outputs": [
        {
          "output_type": "stream",
          "text": [
            "/usr/local/lib/python3.6/dist-packages/ipykernel_launcher.py:1: SettingWithCopyWarning: \n",
            "A value is trying to be set on a copy of a slice from a DataFrame\n",
            "\n",
            "See the caveats in the documentation: https://pandas.pydata.org/pandas-docs/stable/user_guide/indexing.html#returning-a-view-versus-a-copy\n",
            "  \"\"\"Entry point for launching an IPython kernel.\n"
          ],
          "name": "stderr"
        }
      ]
    },
    {
      "cell_type": "code",
      "metadata": {
        "id": "YBPnSq4WFeks",
        "outputId": "70ecadb6-df88-4226-c88b-1f67dbb7b1ec",
        "colab": {
          "base_uri": "https://localhost:8080/"
        }
      },
      "source": [
        "merged.tournament[merged.tournament.str.contains('world cup')==True].value_counts()"
      ],
      "execution_count": 31,
      "outputs": [
        {
          "output_type": "execute_result",
          "data": {
            "text/plain": [
              "world cup    4118\n",
              "Name: tournament, dtype: int64"
            ]
          },
          "metadata": {
            "tags": []
          },
          "execution_count": 31
        }
      ]
    },
    {
      "cell_type": "code",
      "metadata": {
        "id": "xxj88pqpEqUe",
        "outputId": "9bd7f4a4-0ac4-40dd-9e4d-285c32f02706",
        "colab": {
          "base_uri": "https://localhost:8080/"
        }
      },
      "source": [
        "merged.tournament[merged.tournament.str.contains('Friendly','friendly')==True].value_counts()"
      ],
      "execution_count": 32,
      "outputs": [
        {
          "output_type": "execute_result",
          "data": {
            "text/plain": [
              "Friendly    6436\n",
              "Name: tournament, dtype: int64"
            ]
          },
          "metadata": {
            "tags": []
          },
          "execution_count": 32
        }
      ]
    },
    {
      "cell_type": "code",
      "metadata": {
        "id": "b9TIEKPOE1JE",
        "outputId": "9e1210ae-f2d5-4b6f-d030-ee8fd0394b64",
        "colab": {
          "base_uri": "https://localhost:8080/"
        }
      },
      "source": [
        "merged['tournament'][~((merged.tournament.str.contains('Friendly')==True)|(merged.tournament.str.contains('world cup')==True))]='other'"
      ],
      "execution_count": 33,
      "outputs": [
        {
          "output_type": "stream",
          "text": [
            "/usr/local/lib/python3.6/dist-packages/ipykernel_launcher.py:1: SettingWithCopyWarning: \n",
            "A value is trying to be set on a copy of a slice from a DataFrame\n",
            "\n",
            "See the caveats in the documentation: https://pandas.pydata.org/pandas-docs/stable/user_guide/indexing.html#returning-a-view-versus-a-copy\n",
            "  \"\"\"Entry point for launching an IPython kernel.\n"
          ],
          "name": "stderr"
        }
      ]
    },
    {
      "cell_type": "code",
      "metadata": {
        "id": "k9GXovc8GrJm",
        "outputId": "8ef98768-a993-4856-b690-0976cee33b51",
        "colab": {
          "base_uri": "https://localhost:8080/"
        }
      },
      "source": [
        "merged.tournament.value_counts()"
      ],
      "execution_count": 34,
      "outputs": [
        {
          "output_type": "execute_result",
          "data": {
            "text/plain": [
              "Friendly     6436\n",
              "other        6350\n",
              "world cup    4118\n",
              "Name: tournament, dtype: int64"
            ]
          },
          "metadata": {
            "tags": []
          },
          "execution_count": 34
        }
      ]
    },
    {
      "cell_type": "markdown",
      "metadata": {
        "id": "MkpmoVvZNyAf"
      },
      "source": [
        "### External Data Source Validation"
      ]
    },
    {
      "cell_type": "markdown",
      "metadata": {
        "id": "MhScW0HaN2W6"
      },
      "source": [
        "> A more detailed explanation and history of the rankings is available here: https://en.wikipedia.org/wiki/FIFA_World_Rankings\n",
        "\n",
        "\n",
        "> An explanation of the ranking procedure is available here: https://www.fifa.com/fifa-world-ranking/procedure/men\n"
      ]
    },
    {
      "cell_type": "markdown",
      "metadata": {
        "id": "V3SiSN9obdeE"
      },
      "source": [
        "## EDA"
      ]
    },
    {
      "cell_type": "code",
      "metadata": {
        "id": "sU5_X6Mjbghm",
        "outputId": "b189cf4e-e6cf-4278-db64-3850881d764b",
        "colab": {
          "base_uri": "https://localhost:8080/"
        }
      },
      "source": [
        "merged.info(  )"
      ],
      "execution_count": null,
      "outputs": [
        {
          "output_type": "stream",
          "text": [
            "<class 'pandas.core.frame.DataFrame'>\n",
            "Int64Index: 16904 entries, 0 to 16956\n",
            "Data columns (total 27 columns):\n",
            " #   Column                   Non-Null Count  Dtype         \n",
            "---  ------                   --------------  -----         \n",
            " 0   home_rank                16904 non-null  int64         \n",
            " 1   country_full             16904 non-null  object        \n",
            " 2   total_points             16904 non-null  float64       \n",
            " 3   previous_points          16904 non-null  int64         \n",
            " 4   rank_change              16904 non-null  int64         \n",
            " 5   cur_year_avg             16904 non-null  float64       \n",
            " 6   cur_year_avg_weighted    16904 non-null  float64       \n",
            " 7   last_year_avg            16904 non-null  float64       \n",
            " 8   last_year_avg_weighted   16904 non-null  float64       \n",
            " 9   two_year_ago_avg         16904 non-null  float64       \n",
            " 10  two_year_ago_weighted    16904 non-null  float64       \n",
            " 11  three_year_ago_avg       16904 non-null  float64       \n",
            " 12  three_year_ago_weighted  16904 non-null  float64       \n",
            " 13  rank_date                16904 non-null  datetime64[ns]\n",
            " 14  month                    16904 non-null  int64         \n",
            " 15  year                     16904 non-null  int64         \n",
            " 16  ranked_day               16904 non-null  int64         \n",
            " 17  date                     16904 non-null  datetime64[ns]\n",
            " 18  home_team                16904 non-null  object        \n",
            " 19  away_team                16904 non-null  object        \n",
            " 20  home_score               16904 non-null  int64         \n",
            " 21  away_score               16904 non-null  int64         \n",
            " 22  tournament               16904 non-null  object        \n",
            " 23  city                     16904 non-null  object        \n",
            " 24  neutral                  16904 non-null  bool          \n",
            " 25  match_day                16904 non-null  int64         \n",
            " 26  away_rank                16904 non-null  int64         \n",
            "dtypes: bool(1), datetime64[ns](2), float64(9), int64(10), object(5)\n",
            "memory usage: 3.5+ MB\n"
          ],
          "name": "stdout"
        }
      ]
    },
    {
      "cell_type": "markdown",
      "metadata": {
        "id": "avZtJ-VCkYK9"
      },
      "source": [
        "#### univariate"
      ]
    },
    {
      "cell_type": "code",
      "metadata": {
        "id": "Twt2jCqiGvyF",
        "outputId": "6afe2f89-615a-4332-deaf-727f7730bd41",
        "colab": {
          "base_uri": "https://localhost:8080/"
        }
      },
      "source": [
        "merged.home_score.value_counts().plot(kind='bar',rot=0,title='Number of goals scored by the home teams',figsize=(15,6))"
      ],
      "execution_count": null,
      "outputs": [
        {
          "output_type": "execute_result",
          "data": {
            "text/plain": [
              "<matplotlib.axes._subplots.AxesSubplot at 0x7f5a57898a90>"
            ]
          },
          "metadata": {
            "tags": []
          },
          "execution_count": 41
        },
        {
          "output_type": "display_data",
          "data": {
            "image/png": "[encoded data removed]",
            "text/plain": [
              "<Figure size 1080x432 with 1 Axes>"
            ]
          },
          "metadata": {
            "tags": [],
            "needs_background": "light"
          }
        }
      ]
    },
    {
      "cell_type": "markdown",
      "metadata": {
        "id": "sHdfrfwnG9_l"
      },
      "source": [
        "> Most of the home teams scored 1 goal during the matches "
      ]
    },
    {
      "cell_type": "code",
      "metadata": {
        "id": "DRitqBmLG7rU",
        "outputId": "cae0487b-26fb-478d-9251-bb47ef687db4",
        "colab": {
          "base_uri": "https://localhost:8080/"
        }
      },
      "source": [
        "merged.away_score.value_counts().plot(kind='bar',rot=0,title='Number of goals scored by the away teams',figsize=(15,6))"
      ],
      "execution_count": null,
      "outputs": [
        {
          "output_type": "execute_result",
          "data": {
            "text/plain": [
              "<matplotlib.axes._subplots.AxesSubplot at 0x7f5a57918e48>"
            ]
          },
          "metadata": {
            "tags": []
          },
          "execution_count": 42
        },
        {
          "output_type": "display_data",
          "data": {
            "image/png": "[encoded data removed]",
            "text/plain": [
              "<Figure size 1080x432 with 1 Axes>"
            ]
          },
          "metadata": {
            "tags": [],
            "needs_background": "light"
          }
        }
      ]
    },
    {
      "cell_type": "markdown",
      "metadata": {
        "id": "ivuPVqdVHKSe"
      },
      "source": [
        "> Most of the away teams scored no goal during the matches "
      ]
    },
    {
      "cell_type": "code",
      "metadata": {
        "id": "zXPx7dkLHS5u",
        "outputId": "f1add8f1-d9b5-4103-d2fd-44b5545311ee",
        "colab": {
          "base_uri": "https://localhost:8080/"
        }
      },
      "source": [
        "total_goals_scored=merged['away_score']+merged['home_score']\n",
        "total_goals_scored.value_counts().plot(kind='bar',rot=0,title='Number of goals scored by the teams during the matches',figsize=(15,6))"
      ],
      "execution_count": null,
      "outputs": [
        {
          "output_type": "execute_result",
          "data": {
            "text/plain": [
              "<matplotlib.axes._subplots.AxesSubplot at 0x7f5a57591630>"
            ]
          },
          "metadata": {
            "tags": []
          },
          "execution_count": 43
        },
        {
          "output_type": "display_data",
          "data": {
            "image/png": "[encoded data removed]",
            "text/plain": [
              "<Figure size 1080x432 with 1 Axes>"
            ]
          },
          "metadata": {
            "tags": [],
            "needs_background": "light"
          }
        }
      ]
    },
    {
      "cell_type": "markdown",
      "metadata": {
        "id": "KB_vTG3EIAdC"
      },
      "source": [
        "> Most matches ended with a total of 2 goals scored by both teams"
      ]
    },
    {
      "cell_type": "code",
      "metadata": {
        "id": "Vux6GHayIHWd",
        "outputId": "104586c2-667d-41d5-890a-7d7752127ec1",
        "colab": {
          "base_uri": "https://localhost:8080/"
        }
      },
      "source": [
        "merged.tournament.value_counts().plot(kind='bar',rot=0,title='Types of matches',figsize=(15,6))"
      ],
      "execution_count": null,
      "outputs": [
        {
          "output_type": "execute_result",
          "data": {
            "text/plain": [
              "<matplotlib.axes._subplots.AxesSubplot at 0x7f5a577b6a90>"
            ]
          },
          "metadata": {
            "tags": []
          },
          "execution_count": 44
        },
        {
          "output_type": "display_data",
          "data": {
            "image/png": "[encoded data removed]",
            "text/plain": [
              "<Figure size 1080x432 with 1 Axes>"
            ]
          },
          "metadata": {
            "tags": [],
            "needs_background": "light"
          }
        }
      ]
    },
    {
      "cell_type": "markdown",
      "metadata": {
        "id": "tbEHmEAcIpTj"
      },
      "source": [
        "> The least matches in the dataset were World cup matches followed by Friendlies then the most were matches not in these two categories."
      ]
    },
    {
      "cell_type": "code",
      "metadata": {
        "id": "DwbZjJIjI9B5",
        "outputId": "540773b0-4058-464d-e33a-a87b4fcfca0f",
        "colab": {
          "base_uri": "https://localhost:8080/"
        }
      },
      "source": [
        "merged.neutral.value_counts().plot(kind='bar',rot=0,title='Whether the match was played at a neutral venue',figsize=(15,6))"
      ],
      "execution_count": null,
      "outputs": [
        {
          "output_type": "execute_result",
          "data": {
            "text/plain": [
              "<matplotlib.axes._subplots.AxesSubplot at 0x7f5a577b7630>"
            ]
          },
          "metadata": {
            "tags": []
          },
          "execution_count": 45
        },
        {
          "output_type": "display_data",
          "data": {
            "image/png": "[encoded data removed]",
            "text/plain": [
              "<Figure size 1080x432 with 1 Axes>"
            ]
          },
          "metadata": {
            "tags": [],
            "needs_background": "light"
          }
        }
      ]
    },
    {
      "cell_type": "markdown",
      "metadata": {
        "id": "kbvMpPdkJJgw"
      },
      "source": [
        "> Most matches were not layed at a neutral venue"
      ]
    },
    {
      "cell_type": "code",
      "metadata": {
        "id": "AWBDb0YVK4yF",
        "outputId": "3e0eb41d-3f55-4db0-ce82-9574fc9ef243",
        "colab": {
          "base_uri": "https://localhost:8080/"
        }
      },
      "source": [
        "merged.year.value_counts().plot(kind='bar',rot=0,title='Years Played',figsize=(15,6))"
      ],
      "execution_count": null,
      "outputs": [
        {
          "output_type": "execute_result",
          "data": {
            "text/plain": [
              "<matplotlib.axes._subplots.AxesSubplot at 0x7f5a5773c780>"
            ]
          },
          "metadata": {
            "tags": []
          },
          "execution_count": 46
        },
        {
          "output_type": "display_data",
          "data": {
            "image/png": "[encoded data removed]",
            "text/plain": [
              "<Figure size 1080x432 with 1 Axes>"
            ]
          },
          "metadata": {
            "tags": [],
            "needs_background": "light"
          }
        }
      ]
    },
    {
      "cell_type": "markdown",
      "metadata": {
        "id": "pmZjy7LRL8rC"
      },
      "source": [
        "> Most games in the dataset were played in 2011"
      ]
    },
    {
      "cell_type": "code",
      "metadata": {
        "id": "Q0v8dlZkMHnM",
        "outputId": "6c465de2-b195-4f52-f1c0-7de123a8b47d",
        "colab": {
          "base_uri": "https://localhost:8080/"
        }
      },
      "source": [
        "merged.year[merged.tournament=='world cup'].value_counts().plot(kind='bar',rot=0,title='Distribution of matches ranked over different days',figsize=(15,6))"
      ],
      "execution_count": null,
      "outputs": [
        {
          "output_type": "execute_result",
          "data": {
            "text/plain": [
              "<matplotlib.axes._subplots.AxesSubplot at 0x7f5a576de9e8>"
            ]
          },
          "metadata": {
            "tags": []
          },
          "execution_count": 47
        },
        {
          "output_type": "display_data",
          "data": {
            "image/png": "[encoded data removed]",
            "text/plain": [
              "<Figure size 1080x432 with 1 Axes>"
            ]
          },
          "metadata": {
            "tags": [],
            "needs_background": "light"
          }
        }
      ]
    },
    {
      "cell_type": "markdown",
      "metadata": {
        "id": "eDsDRJpyMuq8"
      },
      "source": [
        "> Most world cup matches were played in 2001"
      ]
    },
    {
      "cell_type": "code",
      "metadata": {
        "id": "rGPzeDT6JXPp",
        "outputId": "e110d5ab-51f5-4b15-f1ae-ffdcc7815557",
        "colab": {
          "base_uri": "https://localhost:8080/"
        }
      },
      "source": [
        "merged.month.value_counts().plot(kind='bar',rot=0,title='Distribution of matches in the months',figsize=(15,6))"
      ],
      "execution_count": null,
      "outputs": [
        {
          "output_type": "execute_result",
          "data": {
            "text/plain": [
              "<matplotlib.axes._subplots.AxesSubplot at 0x7f5a55d6bda0>"
            ]
          },
          "metadata": {
            "tags": []
          },
          "execution_count": 48
        },
        {
          "output_type": "display_data",
          "data": {
            "image/png": "[encoded data removed]",
            "text/plain": [
              "<Figure size 1080x432 with 1 Axes>"
            ]
          },
          "metadata": {
            "tags": [],
            "needs_background": "light"
          }
        }
      ]
    },
    {
      "cell_type": "markdown",
      "metadata": {
        "id": "9ZPImZnrJkcL"
      },
      "source": [
        "> Most of the matches were played during October, September and November"
      ]
    },
    {
      "cell_type": "code",
      "metadata": {
        "id": "0lqJFRcOJxQ8",
        "outputId": "885a85d9-7ccf-413c-85cc-16fc37127a93",
        "colab": {
          "base_uri": "https://localhost:8080/"
        }
      },
      "source": [
        "merged.match_day.value_counts().plot(kind='bar',rot=0,title='Distribution of matches played over different days',figsize=(15,6))"
      ],
      "execution_count": null,
      "outputs": [
        {
          "output_type": "execute_result",
          "data": {
            "text/plain": [
              "<matplotlib.axes._subplots.AxesSubplot at 0x7f5a55d76470>"
            ]
          },
          "metadata": {
            "tags": []
          },
          "execution_count": 49
        },
        {
          "output_type": "display_data",
          "data": {
            "image/png": "[encoded data removed]",
            "text/plain": [
              "<Figure size 1080x432 with 1 Axes>"
            ]
          },
          "metadata": {
            "tags": [],
            "needs_background": "light"
          }
        }
      ]
    },
    {
      "cell_type": "markdown",
      "metadata": {
        "id": "Myx4AzokKkWr"
      },
      "source": [
        "> most matches were played on the 6 th day of the month"
      ]
    },
    {
      "cell_type": "code",
      "metadata": {
        "id": "E0hMZcsdKB4G",
        "outputId": "bbb466e4-992a-4fa5-93a8-42723dcaafd4",
        "colab": {
          "base_uri": "https://localhost:8080/"
        }
      },
      "source": [
        "merged.ranked_day.value_counts().plot(kind='bar',rot=0,title='Distribution of matches ranked over different days',figsize=(15,6))"
      ],
      "execution_count": null,
      "outputs": [
        {
          "output_type": "execute_result",
          "data": {
            "text/plain": [
              "<matplotlib.axes._subplots.AxesSubplot at 0x7f5a55bf9860>"
            ]
          },
          "metadata": {
            "tags": []
          },
          "execution_count": 50
        },
        {
          "output_type": "display_data",
          "data": {
            "image/png": "[encoded data removed]",
            "text/plain": [
              "<Figure size 1080x432 with 1 Axes>"
            ]
          },
          "metadata": {
            "tags": [],
            "needs_background": "light"
          }
        }
      ]
    },
    {
      "cell_type": "markdown",
      "metadata": {
        "id": "yqA7cDMnKqwM"
      },
      "source": [
        "> Most matches were rankes on the 18 th to 20 th days of the months"
      ]
    },
    {
      "cell_type": "markdown",
      "metadata": {
        "id": "33XNZCmjNKSl"
      },
      "source": [
        "#### Bivariate"
      ]
    },
    {
      "cell_type": "code",
      "metadata": {
        "id": "3z7ydK-TaOhz",
        "outputId": "9be99077-a574-4e78-cf51-0bcad77eed7a",
        "colab": {
          "base_uri": "https://localhost:8080/"
        }
      },
      "source": [
        "merged[~(merged['country_full']==merged['home_team'])]"
      ],
      "execution_count": null,
      "outputs": [
        {
          "output_type": "execute_result",
          "data": {
            "text/html": [
              "<div>\n",
              "<style scoped>\n",
              "    .dataframe tbody tr th:only-of-type {\n",
              "        vertical-align: middle;\n",
              "    }\n",
              "\n",
              "    .dataframe tbody tr th {\n",
              "        vertical-align: top;\n",
              "    }\n",
              "\n",
              "    .dataframe thead th {\n",
              "        text-align: right;\n",
              "    }\n",
              "</style>\n",
              "<table border=\"1\" class=\"dataframe\">\n",
              "  <thead>\n",
              "    <tr style=\"text-align: right;\">\n",
              "      <th></th>\n",
              "      <th>home_rank</th>\n",
              "      <th>country_full</th>\n",
              "      <th>total_points</th>\n",
              "      <th>previous_points</th>\n",
              "      <th>rank_change</th>\n",
              "      <th>cur_year_avg</th>\n",
              "      <th>cur_year_avg_weighted</th>\n",
              "      <th>last_year_avg</th>\n",
              "      <th>last_year_avg_weighted</th>\n",
              "      <th>two_year_ago_avg</th>\n",
              "      <th>two_year_ago_weighted</th>\n",
              "      <th>three_year_ago_avg</th>\n",
              "      <th>three_year_ago_weighted</th>\n",
              "      <th>rank_date</th>\n",
              "      <th>month</th>\n",
              "      <th>year</th>\n",
              "      <th>ranked_day</th>\n",
              "      <th>date</th>\n",
              "      <th>home_team</th>\n",
              "      <th>away_team</th>\n",
              "      <th>home_score</th>\n",
              "      <th>away_score</th>\n",
              "      <th>tournament</th>\n",
              "      <th>city</th>\n",
              "      <th>neutral</th>\n",
              "      <th>match_day</th>\n",
              "      <th>away_rank</th>\n",
              "    </tr>\n",
              "  </thead>\n",
              "  <tbody>\n",
              "  </tbody>\n",
              "</table>\n",
              "</div>"
            ],
            "text/plain": [
              "Empty DataFrame\n",
              "Columns: [home_rank, country_full, total_points, previous_points, rank_change, cur_year_avg, cur_year_avg_weighted, last_year_avg, last_year_avg_weighted, two_year_ago_avg, two_year_ago_weighted, three_year_ago_avg, three_year_ago_weighted, rank_date, month, year, ranked_day, date, home_team, away_team, home_score, away_score, tournament, city, neutral, match_day, away_rank]\n",
              "Index: []"
            ]
          },
          "metadata": {
            "tags": []
          },
          "execution_count": 51
        }
      ]
    },
    {
      "cell_type": "code",
      "metadata": {
        "id": "4BoMFIzmM5Yw"
      },
      "source": [
        "from sklearn.preprocessing import LabelEncoder\n",
        "le=LabelEncoder()\n",
        "heat=merged.drop(['rank_date','date'],axis=1)\n",
        "heat['country_full']=le.fit_transform(heat['country_full'])\n",
        "heat['neutral']=le.fit_transform(heat['neutral'])\n",
        "heat['home_team']=le.fit_transform(heat['home_team'])\n",
        "heat['away_team']=le.fit_transform(heat['away_team'])\n",
        "heat['tournament']=le.fit_transform(heat['tournament'])\n",
        "heat['city']=le.fit_transform(heat['city'])"
      ],
      "execution_count": 37,
      "outputs": []
    },
    {
      "cell_type": "code",
      "metadata": {
        "id": "X4kke2BxQbFT",
        "outputId": "ccf05982-8026-4777-84b4-3a766a37d44b",
        "colab": {
          "base_uri": "https://localhost:8080/",
          "height": 1000
        }
      },
      "source": [
        "plt.subplots(figsize=(20,20))\n",
        "sns.heatmap(heat.corr(),annot=True)"
      ],
      "execution_count": null,
      "outputs": [
        {
          "output_type": "execute_result",
          "data": {
            "text/plain": [
              "<matplotlib.axes._subplots.AxesSubplot at 0x7f5a44707c88>"
            ]
          },
          "metadata": {
            "tags": []
          },
          "execution_count": 331
        },
        {
          "output_type": "display_data",
          "data": {
            "image/png": "[encoded data removed]",
            "text/plain": [
              "<Figure size 1440x1440 with 2 Axes>"
            ]
          },
          "metadata": {
            "tags": [],
            "needs_background": "light"
          }
        }
      ]
    },
    {
      "cell_type": "markdown",
      "metadata": {
        "id": "reRCJgSeRCrC"
      },
      "source": [
        "> The averages and weighted averages have a high correlation because each weighted average is calculated from the average"
      ]
    },
    {
      "cell_type": "markdown",
      "metadata": {
        "id": "S8drcd0vRaVh"
      },
      "source": [
        "> The total points is highly correlated with the current year because the points are directly proporional to the current Years Points"
      ]
    },
    {
      "cell_type": "markdown",
      "metadata": {
        "id": "yB8Ql38hcXRT"
      },
      "source": [
        "> The home team and coutry dont have a correlation of 1 because there were counties that hosted the matches as neutral grounds."
      ]
    },
    {
      "cell_type": "markdown",
      "metadata": {
        "id": "9BATOtYOfHWi"
      },
      "source": [
        ">"
      ]
    },
    {
      "cell_type": "code",
      "metadata": {
        "id": "pErS9c6NkokZ",
        "outputId": "4ffb3df0-fff5-439a-8e60-d3f826f215b4",
        "colab": {
          "base_uri": "https://localhost:8080/"
        }
      },
      "source": [
        "merged[['cur_year_avg','cur_year_avg_weighted','last_year_avg','last_year_avg_weighted','two_year_ago_avg','two_year_ago_weighted','three_year_ago_avg','three_year_ago_weighted']].mean().plot(kind='barh',figsize=(15,6))"
      ],
      "execution_count": null,
      "outputs": [
        {
          "output_type": "execute_result",
          "data": {
            "text/plain": [
              "<matplotlib.axes._subplots.AxesSubplot at 0x7f5a5179d400>"
            ]
          },
          "metadata": {
            "tags": []
          },
          "execution_count": 54
        },
        {
          "output_type": "display_data",
          "data": {
            "image/png": "[encoded data removed]",
            "text/plain": [
              "<Figure size 1080x432 with 1 Axes>"
            ]
          },
          "metadata": {
            "tags": [],
            "needs_background": "light"
          }
        }
      ]
    },
    {
      "cell_type": "markdown",
      "metadata": {
        "id": "UqLZfEemlnaL"
      },
      "source": [
        "> the averages weighted averages have been increasing over the years.\n",
        "* The weighted averages have had a dramatic increase while the averages have a very minimal change over the years."
      ]
    },
    {
      "cell_type": "code",
      "metadata": {
        "id": "oS6bhjzQmGIq",
        "outputId": "b37a4fbb-cb03-4168-f42d-0e941ab6a721",
        "colab": {
          "base_uri": "https://localhost:8080/",
          "height": 436
        }
      },
      "source": [
        "pd.pivot_table(merged,index='neutral',values=['home_score','away_score'],aggfunc='sum').plot(kind='bar',title='Goals in neutral and non neutral cities',figsize=(15,6))"
      ],
      "execution_count": null,
      "outputs": [
        {
          "output_type": "execute_result",
          "data": {
            "text/plain": [
              "<matplotlib.axes._subplots.AxesSubplot at 0x7f5a51708eb8>"
            ]
          },
          "metadata": {
            "tags": []
          },
          "execution_count": 55
        },
        {
          "output_type": "display_data",
          "data": {
            "image/png": "[encoded data removed]",
            "text/plain": [
              "<Figure size 1080x432 with 1 Axes>"
            ]
          },
          "metadata": {
            "tags": [],
            "needs_background": "light"
          }
        }
      ]
    },
    {
      "cell_type": "markdown",
      "metadata": {
        "id": "3Kcq1IlsnNYk"
      },
      "source": [
        "> more goals were scored by the home teams in their home ground."
      ]
    },
    {
      "cell_type": "code",
      "metadata": {
        "id": "EQf7d4Y-naIp",
        "outputId": "042a938c-0f0e-4ed5-9820-9a023852b273",
        "colab": {
          "base_uri": "https://localhost:8080/",
          "height": 460
        }
      },
      "source": [
        "pd.pivot_table(merged,index='tournament',values=['home_score','away_score'],aggfunc='sum').plot(kind='bar',title='Goals in neutral and non 0neutral cities',figsize=(15,6))"
      ],
      "execution_count": null,
      "outputs": [
        {
          "output_type": "execute_result",
          "data": {
            "text/plain": [
              "<matplotlib.axes._subplots.AxesSubplot at 0x7f5a5175fa90>"
            ]
          },
          "metadata": {
            "tags": []
          },
          "execution_count": 56
        },
        {
          "output_type": "display_data",
          "data": {
            "image/png": "[encoded data removed]",
            "text/plain": [
              "<Figure size 1080x432 with 1 Axes>"
            ]
          },
          "metadata": {
            "tags": [],
            "needs_background": "light"
          }
        }
      ]
    },
    {
      "cell_type": "markdown",
      "metadata": {
        "id": "MhIymJeUHVKo"
      },
      "source": [
        "> Home teams generally won in every tournament type however uncategorised tournaments registered the highest number of home team wins"
      ]
    },
    {
      "cell_type": "markdown",
      "metadata": {
        "id": "dNQ2eT7aHy7I"
      },
      "source": [
        "## Implementing the solution"
      ]
    },
    {
      "cell_type": "markdown",
      "metadata": {
        "id": "CcsHmu4KSwN8"
      },
      "source": [
        "### Polynomial Regression"
      ]
    },
    {
      "cell_type": "markdown",
      "metadata": {
        "id": "_wldNp0uqPdg"
      },
      "source": [
        "> Train models given:\n",
        " *  Rank of home team\n",
        " *  Rank of away team\n",
        " *  Tournament type\n",
        "\n",
        " > For both models i will use the same set of home team ,away team ranks and tournament type : 15, 32, Friendly"
      ]
    },
    {
      "cell_type": "markdown",
      "metadata": {
        "id": "gO3XPvefYEUe"
      },
      "source": [
        "importing the necessary liblaries for a polynomial regression"
      ]
    },
    {
      "cell_type": "code",
      "metadata": {
        "id": "2OpO0ymzS2iV"
      },
      "source": [
        "from sklearn.model_selection import train_test_split\n",
        "from sklearn.linear_model import LinearRegression\n",
        "from sklearn.preprocessing import PolynomialFeatures\n",
        "from sklearn import metrics\n",
        "\n",
        "from sklearn.model_selection import KFold #for cross validation\n",
        "import scipy as sp #For homogenuity"
      ],
      "execution_count": 46,
      "outputs": []
    },
    {
      "cell_type": "markdown",
      "metadata": {
        "id": "URjtapZpXq81"
      },
      "source": [
        "> Creating encoded values of tournament type"
      ]
    },
    {
      "cell_type": "code",
      "metadata": {
        "id": "IVwjzyQFTcxW",
        "outputId": "10aa43e3-9dbd-45fa-db3b-44f09b0ec4b9",
        "colab": {
          "base_uri": "https://localhost:8080/"
        }
      },
      "source": [
        "x=merged[['home_rank','away_rank','tournament']]\n",
        "print(x['tournament'].value_counts())\n",
        "x['tournament']=le.fit_transform(x['tournament'])\n"
      ],
      "execution_count": 137,
      "outputs": [
        {
          "output_type": "stream",
          "text": [
            "Friendly     6436\n",
            "other        6350\n",
            "world cup    4118\n",
            "Name: tournament, dtype: int64\n"
          ],
          "name": "stdout"
        },
        {
          "output_type": "stream",
          "text": [
            "/usr/local/lib/python3.6/dist-packages/ipykernel_launcher.py:3: SettingWithCopyWarning: \n",
            "A value is trying to be set on a copy of a slice from a DataFrame.\n",
            "Try using .loc[row_indexer,col_indexer] = value instead\n",
            "\n",
            "See the caveats in the documentation: https://pandas.pydata.org/pandas-docs/stable/user_guide/indexing.html#returning-a-view-versus-a-copy\n",
            "  This is separate from the ipykernel package so we can avoid doing imports until\n"
          ],
          "name": "stderr"
        }
      ]
    },
    {
      "cell_type": "markdown",
      "metadata": {
        "id": "Wxv3au3jGxkV"
      },
      "source": [
        "> Tournament Encodings\n",
        "* Friendly : 0\n",
        "* Other    : 1\n",
        "* World cup: 2 "
      ]
    },
    {
      "cell_type": "code",
      "metadata": {
        "id": "i-UZ7yhPGeiZ",
        "outputId": "761118b1-df4a-47ae-f277-c1fbe3cfba5d",
        "colab": {
          "base_uri": "https://localhost:8080/"
        }
      },
      "source": [
        "x['tournament'].value_counts()"
      ],
      "execution_count": 48,
      "outputs": [
        {
          "output_type": "execute_result",
          "data": {
            "text/plain": [
              "0    6436\n",
              "1    6350\n",
              "2    4118\n",
              "Name: tournament, dtype: int64"
            ]
          },
          "metadata": {
            "tags": []
          },
          "execution_count": 48
        }
      ]
    },
    {
      "cell_type": "code",
      "metadata": {
        "id": "cP5NhVPRd0T8",
        "outputId": "e5cafa35-a7fe-4ce3-901c-191a35f62d07",
        "colab": {
          "base_uri": "https://localhost:8080/",
          "height": 282
        }
      },
      "source": [
        "plt.scatter(x['away_rank'], y, color='blue') "
      ],
      "execution_count": 51,
      "outputs": [
        {
          "output_type": "execute_result",
          "data": {
            "text/plain": [
              "<matplotlib.collections.PathCollection at 0x7fbc42556eb8>"
            ]
          },
          "metadata": {
            "tags": []
          },
          "execution_count": 51
        },
        {
          "output_type": "display_data",
          "data": {
            "image/png": "[encoded data removed]",
            "text/plain": [
              "<Figure size 432x288 with 1 Axes>"
            ]
          },
          "metadata": {
            "tags": [],
            "needs_background": "light"
          }
        }
      ]
    },
    {
      "cell_type": "code",
      "metadata": {
        "id": "PSppcxC-fKEO",
        "outputId": "de3d8be0-41b4-4024-f73e-83191cde70f8",
        "colab": {
          "base_uri": "https://localhost:8080/",
          "height": 282
        }
      },
      "source": [
        "plt.scatter(x['home_rank'], y, color='blue') "
      ],
      "execution_count": 52,
      "outputs": [
        {
          "output_type": "execute_result",
          "data": {
            "text/plain": [
              "<matplotlib.collections.PathCollection at 0x7fbc4912cd68>"
            ]
          },
          "metadata": {
            "tags": []
          },
          "execution_count": 52
        },
        {
          "output_type": "display_data",
          "data": {
            "image/png": "[encoded data removed]",
            "text/plain": [
              "<Figure size 432x288 with 1 Axes>"
            ]
          },
          "metadata": {
            "tags": [],
            "needs_background": "light"
          }
        }
      ]
    },
    {
      "cell_type": "markdown",
      "metadata": {
        "id": "SN-41MJfpTUb"
      },
      "source": [
        "> Both the scater plots show a linear distribution"
      ]
    },
    {
      "cell_type": "markdown",
      "metadata": {
        "id": "0lKUhOpNkapm"
      },
      "source": [
        "###### Multicoleniarity"
      ]
    },
    {
      "cell_type": "code",
      "metadata": {
        "id": "JW3qOPnnWZjU",
        "outputId": "a225a879-0cfa-47d7-cbf6-fe8353319db4",
        "colab": {
          "base_uri": "https://localhost:8080/",
          "height": 137
        }
      },
      "source": [
        "correlations = x.corr()\n",
        "correlations"
      ],
      "execution_count": 53,
      "outputs": [
        {
          "output_type": "execute_result",
          "data": {
            "text/html": [
              "<div>\n",
              "<style scoped>\n",
              "    .dataframe tbody tr th:only-of-type {\n",
              "        vertical-align: middle;\n",
              "    }\n",
              "\n",
              "    .dataframe tbody tr th {\n",
              "        vertical-align: top;\n",
              "    }\n",
              "\n",
              "    .dataframe thead th {\n",
              "        text-align: right;\n",
              "    }\n",
              "</style>\n",
              "<table border=\"1\" class=\"dataframe\">\n",
              "  <thead>\n",
              "    <tr style=\"text-align: right;\">\n",
              "      <th></th>\n",
              "      <th>home_rank</th>\n",
              "      <th>away_rank</th>\n",
              "      <th>tournament</th>\n",
              "    </tr>\n",
              "  </thead>\n",
              "  <tbody>\n",
              "    <tr>\n",
              "      <th>home_rank</th>\n",
              "      <td>1.000000</td>\n",
              "      <td>0.469454</td>\n",
              "      <td>0.032581</td>\n",
              "    </tr>\n",
              "    <tr>\n",
              "      <th>away_rank</th>\n",
              "      <td>0.469454</td>\n",
              "      <td>1.000000</td>\n",
              "      <td>0.024374</td>\n",
              "    </tr>\n",
              "    <tr>\n",
              "      <th>tournament</th>\n",
              "      <td>0.032581</td>\n",
              "      <td>0.024374</td>\n",
              "      <td>1.000000</td>\n",
              "    </tr>\n",
              "  </tbody>\n",
              "</table>\n",
              "</div>"
            ],
            "text/plain": [
              "            home_rank  away_rank  tournament\n",
              "home_rank    1.000000   0.469454    0.032581\n",
              "away_rank    0.469454   1.000000    0.024374\n",
              "tournament   0.032581   0.024374    1.000000"
            ]
          },
          "metadata": {
            "tags": []
          },
          "execution_count": 53
        }
      ]
    },
    {
      "cell_type": "code",
      "metadata": {
        "id": "_0642880WTz4",
        "outputId": "fe2dc179-9378-487d-bee4-73ccceff81f9",
        "colab": {
          "base_uri": "https://localhost:8080/",
          "height": 137
        }
      },
      "source": [
        "pd.DataFrame(np.linalg.inv(correlations.values), index = correlations.index, columns=correlations.columns)"
      ],
      "execution_count": 54,
      "outputs": [
        {
          "output_type": "execute_result",
          "data": {
            "text/html": [
              "<div>\n",
              "<style scoped>\n",
              "    .dataframe tbody tr th:only-of-type {\n",
              "        vertical-align: middle;\n",
              "    }\n",
              "\n",
              "    .dataframe tbody tr th {\n",
              "        vertical-align: top;\n",
              "    }\n",
              "\n",
              "    .dataframe thead th {\n",
              "        text-align: right;\n",
              "    }\n",
              "</style>\n",
              "<table border=\"1\" class=\"dataframe\">\n",
              "  <thead>\n",
              "    <tr style=\"text-align: right;\">\n",
              "      <th></th>\n",
              "      <th>home_rank</th>\n",
              "      <th>away_rank</th>\n",
              "      <th>tournament</th>\n",
              "    </tr>\n",
              "  </thead>\n",
              "  <tbody>\n",
              "    <tr>\n",
              "      <th>home_rank</th>\n",
              "      <td>1.283423</td>\n",
              "      <td>-0.601846</td>\n",
              "      <td>-0.027146</td>\n",
              "    </tr>\n",
              "    <tr>\n",
              "      <th>away_rank</th>\n",
              "      <td>-0.601846</td>\n",
              "      <td>1.282823</td>\n",
              "      <td>-0.011659</td>\n",
              "    </tr>\n",
              "    <tr>\n",
              "      <th>tournament</th>\n",
              "      <td>-0.027146</td>\n",
              "      <td>-0.011659</td>\n",
              "      <td>1.001169</td>\n",
              "    </tr>\n",
              "  </tbody>\n",
              "</table>\n",
              "</div>"
            ],
            "text/plain": [
              "            home_rank  away_rank  tournament\n",
              "home_rank    1.283423  -0.601846   -0.027146\n",
              "away_rank   -0.601846   1.282823   -0.011659\n",
              "tournament  -0.027146  -0.011659    1.001169"
            ]
          },
          "metadata": {
            "tags": []
          },
          "execution_count": 54
        }
      ]
    },
    {
      "cell_type": "markdown",
      "metadata": {
        "id": "Q-t1vGIgkGsi"
      },
      "source": [
        "> The variables are not colinear since most are close to 1"
      ]
    },
    {
      "cell_type": "markdown",
      "metadata": {
        "id": "mbPy3e3XqKye"
      },
      "source": [
        "#### Model 1: Predict how many goals the home team scores."
      ]
    },
    {
      "cell_type": "code",
      "metadata": {
        "id": "yCrBQAz9sGpC"
      },
      "source": [
        "y=merged['home_score']"
      ],
      "execution_count": 138,
      "outputs": []
    },
    {
      "cell_type": "code",
      "metadata": {
        "id": "8gykGwnxfQZt",
        "outputId": "c405616b-e335-4d5c-aba7-e06b020480e1",
        "colab": {
          "base_uri": "https://localhost:8080/"
        }
      },
      "source": [
        "x_train,x_test,y_train,y_test = train_test_split(x,y,test_size=0.3,random_state=0)\n",
        "regressor=LinearRegression()\n",
        "regressor.fit(x_train,y_train)\n",
        "list(regressor.coef_)"
      ],
      "execution_count": 139,
      "outputs": [
        {
          "output_type": "execute_result",
          "data": {
            "text/plain": [
              "[-0.01157701766560347, 0.014931792066061988, 0.1276283703206576]"
            ]
          },
          "metadata": {
            "tags": []
          },
          "execution_count": 139
        }
      ]
    },
    {
      "cell_type": "markdown",
      "metadata": {
        "id": "g2KpeLSeffmg"
      },
      "source": [
        "The tournament has the largest weight on the home team score"
      ]
    },
    {
      "cell_type": "code",
      "metadata": {
        "id": "m_eLCaY5foAQ",
        "outputId": "41af22e2-ec74-48d4-e8dd-4acf8915d843",
        "colab": {
          "base_uri": "https://localhost:8080/",
          "height": 287
        }
      },
      "source": [
        "y_pred=regressor.predict(x_test)\n",
        "comp=pd.DataFrame({'Actual':y_test,'Predicted':y_pred})\n",
        "comp.describe()"
      ],
      "execution_count": 140,
      "outputs": [
        {
          "output_type": "execute_result",
          "data": {
            "text/html": [
              "<div>\n",
              "<style scoped>\n",
              "    .dataframe tbody tr th:only-of-type {\n",
              "        vertical-align: middle;\n",
              "    }\n",
              "\n",
              "    .dataframe tbody tr th {\n",
              "        vertical-align: top;\n",
              "    }\n",
              "\n",
              "    .dataframe thead th {\n",
              "        text-align: right;\n",
              "    }\n",
              "</style>\n",
              "<table border=\"1\" class=\"dataframe\">\n",
              "  <thead>\n",
              "    <tr style=\"text-align: right;\">\n",
              "      <th></th>\n",
              "      <th>Actual</th>\n",
              "      <th>Predicted</th>\n",
              "    </tr>\n",
              "  </thead>\n",
              "  <tbody>\n",
              "    <tr>\n",
              "      <th>count</th>\n",
              "      <td>5072.000000</td>\n",
              "      <td>5072.000000</td>\n",
              "    </tr>\n",
              "    <tr>\n",
              "      <th>mean</th>\n",
              "      <td>1.610607</td>\n",
              "      <td>1.617428</td>\n",
              "    </tr>\n",
              "    <tr>\n",
              "      <th>std</th>\n",
              "      <td>1.665829</td>\n",
              "      <td>0.724465</td>\n",
              "    </tr>\n",
              "    <tr>\n",
              "      <th>min</th>\n",
              "      <td>0.000000</td>\n",
              "      <td>-0.903185</td>\n",
              "    </tr>\n",
              "    <tr>\n",
              "      <th>25%</th>\n",
              "      <td>0.000000</td>\n",
              "      <td>1.149684</td>\n",
              "    </tr>\n",
              "    <tr>\n",
              "      <th>50%</th>\n",
              "      <td>1.000000</td>\n",
              "      <td>1.577762</td>\n",
              "    </tr>\n",
              "    <tr>\n",
              "      <th>75%</th>\n",
              "      <td>2.000000</td>\n",
              "      <td>2.059840</td>\n",
              "    </tr>\n",
              "    <tr>\n",
              "      <th>max</th>\n",
              "      <td>31.000000</td>\n",
              "      <td>4.385110</td>\n",
              "    </tr>\n",
              "  </tbody>\n",
              "</table>\n",
              "</div>"
            ],
            "text/plain": [
              "            Actual    Predicted\n",
              "count  5072.000000  5072.000000\n",
              "mean      1.610607     1.617428\n",
              "std       1.665829     0.724465\n",
              "min       0.000000    -0.903185\n",
              "25%       0.000000     1.149684\n",
              "50%       1.000000     1.577762\n",
              "75%       2.000000     2.059840\n",
              "max      31.000000     4.385110"
            ]
          },
          "metadata": {
            "tags": []
          },
          "execution_count": 140
        }
      ]
    },
    {
      "cell_type": "markdown",
      "metadata": {
        "id": "2umNl3eMgOBw"
      },
      "source": [
        "> The mean is realy close but the minimum and maximum values are way too off"
      ]
    },
    {
      "cell_type": "code",
      "metadata": {
        "id": "bTa8M0hDgaqs",
        "outputId": "18dd721b-f733-453f-ba85-51677aa1d4cd",
        "colab": {
          "base_uri": "https://localhost:8080/"
        }
      },
      "source": [
        "print('Mean Absolute Error:', metrics.mean_absolute_error(y_test, y_pred))\n",
        "print('Mean Squared Error:', metrics.mean_squared_error(y_test, y_pred))\n",
        "print('Root Mean Squared Error:', np.sqrt(metrics.mean_squared_error(y_test, y_pred)))"
      ],
      "execution_count": 141,
      "outputs": [
        {
          "output_type": "stream",
          "text": [
            "Mean Absolute Error: 1.056246049825795\n",
            "Mean Squared Error: 2.1937902540638485\n",
            "Root Mean Squared Error: 1.4811449132559071\n"
          ],
          "name": "stdout"
        }
      ]
    },
    {
      "cell_type": "code",
      "metadata": {
        "id": "5_lgH4TYmCQU",
        "outputId": "074670f9-efe5-434b-f0ca-465fc58c5e1f",
        "colab": {
          "base_uri": "https://localhost:8080/"
        }
      },
      "source": [
        "regressor.predict([[15,32,0]])"
      ],
      "execution_count": 142,
      "outputs": [
        {
          "output_type": "execute_result",
          "data": {
            "text/plain": [
              "array([1.50218689])"
            ]
          },
          "metadata": {
            "tags": []
          },
          "execution_count": 142
        }
      ]
    },
    {
      "cell_type": "markdown",
      "metadata": {
        "id": "UEJsUyv7mZmx"
      },
      "source": [
        "> The model predicted aa value of 1.50 goals which implies there is a 100% chance of the home team scoring 1 goal and a 50 % chance of scoring a second goal"
      ]
    },
    {
      "cell_type": "code",
      "metadata": {
        "id": "UMBIl9tlhPTl",
        "outputId": "2a99bd4c-3679-4ee5-dd0c-71ef2cbcddf4",
        "colab": {
          "base_uri": "https://localhost:8080/"
        }
      },
      "source": [
        "x = x.values\n",
        "y = y.values\n",
        "\n",
        "folds = KFold(n_splits=10)\n",
        "\n",
        "rmses = []\n",
        "count = 1\n",
        "for train, test in folds.split(x):\n",
        "  x_train, x_test = x[train], x[test]\n",
        "  y_train, y_test = y[train], y[test]\n",
        "\n",
        "  regressor = LinearRegression()  \n",
        "  regressor.fit(x_train, y_train)\n",
        "  y_pred = regressor.predict(x_test)\n",
        "  \n",
        "  rmse =  np.sqrt(metrics.mean_squared_error(y_test, y_pred))\n",
        "  rmses.append(rmse)\n",
        "  \n",
        "  print('Model',count,' Root Mean Squared Error:',rmse)\n",
        "  count = count + 1"
      ],
      "execution_count": 143,
      "outputs": [
        {
          "output_type": "stream",
          "text": [
            "Model 1  Root Mean Squared Error: 1.3421207400620077\n",
            "Model 2  Root Mean Squared Error: 1.609625829043855\n",
            "Model 3  Root Mean Squared Error: 1.7665496414758457\n",
            "Model 4  Root Mean Squared Error: 1.436854163426237\n",
            "Model 5  Root Mean Squared Error: 1.3251998685422919\n",
            "Model 6  Root Mean Squared Error: 1.3951157096576028\n",
            "Model 7  Root Mean Squared Error: 1.3845812288240467\n",
            "Model 8  Root Mean Squared Error: 1.353648711728373\n",
            "Model 9  Root Mean Squared Error: 1.3111538482629763\n",
            "Model 10  Root Mean Squared Error: 1.3877783504639873\n"
          ],
          "name": "stdout"
        }
      ]
    },
    {
      "cell_type": "markdown",
      "metadata": {
        "id": "p4fVAhBurXlw"
      },
      "source": [
        "> I used a kfold to see if my RMSE was within scope or was too off, and yes it was within the scope of the 10 models"
      ]
    },
    {
      "cell_type": "code",
      "metadata": {
        "id": "DPr8y999Ukn_",
        "outputId": "1f23e93f-27a7-4e0a-ac42-de6e913d8873",
        "colab": {
          "base_uri": "https://localhost:8080/"
        }
      },
      "source": [
        "polynomial =PolynomialFeatures(degree=6)\n",
        "poly_fit =polynomial.fit_transform(x)\n",
        "\n",
        "regression = LinearRegression()\n",
        "regression.fit(poly_fit, y)\n",
        "\n",
        "y_pred=regression.predict(poly_fit)\n",
        "print('Root Mean Squared Error :', np.sqrt(metrics.mean_squared_error(y, y_pred)))"
      ],
      "execution_count": 144,
      "outputs": [
        {
          "output_type": "stream",
          "text": [
            "Root Mean Squared Error : 1.3971837740547113\n"
          ],
          "name": "stdout"
        }
      ]
    },
    {
      "cell_type": "code",
      "metadata": {
        "id": "uWkwkzeTk_M7",
        "outputId": "885bdd18-3816-4907-dbd6-fa5c4aacccf2",
        "colab": {
          "base_uri": "https://localhost:8080/"
        }
      },
      "source": [
        "regression.predict(polynomial.fit_transform([[15,32,0]]))"
      ],
      "execution_count": 102,
      "outputs": [
        {
          "output_type": "execute_result",
          "data": {
            "text/plain": [
              "array([0.80396519])"
            ]
          },
          "metadata": {
            "tags": []
          },
          "execution_count": 102
        }
      ]
    },
    {
      "cell_type": "markdown",
      "metadata": {
        "id": "HCp-R-F4o-Je"
      },
      "source": [
        "> The model predicted aa value of 1.54 goals which implies there is a 100% chance of the home team scoring 1 goal and a 54 % chance of scoring a second goal\n",
        "\n",
        ">This could be because the plots are scattered Linearly so the polynomial model and linear models were quite similar"
      ]
    },
    {
      "cell_type": "markdown",
      "metadata": {
        "id": "ZfhA30FlfZEd"
      },
      "source": [
        "##### Residuals"
      ]
    },
    {
      "cell_type": "code",
      "metadata": {
        "id": "-mLWaD5hW2K_",
        "outputId": "cb28200e-bc19-447c-e78a-46005fd4f398",
        "colab": {
          "base_uri": "https://localhost:8080/",
          "height": 287
        }
      },
      "source": [
        "residuals = np.subtract(y_pred, y)\n",
        "pd.DataFrame(residuals).describe()"
      ],
      "execution_count": 145,
      "outputs": [
        {
          "output_type": "execute_result",
          "data": {
            "text/html": [
              "<div>\n",
              "<style scoped>\n",
              "    .dataframe tbody tr th:only-of-type {\n",
              "        vertical-align: middle;\n",
              "    }\n",
              "\n",
              "    .dataframe tbody tr th {\n",
              "        vertical-align: top;\n",
              "    }\n",
              "\n",
              "    .dataframe thead th {\n",
              "        text-align: right;\n",
              "    }\n",
              "</style>\n",
              "<table border=\"1\" class=\"dataframe\">\n",
              "  <thead>\n",
              "    <tr style=\"text-align: right;\">\n",
              "      <th></th>\n",
              "      <th>0</th>\n",
              "    </tr>\n",
              "  </thead>\n",
              "  <tbody>\n",
              "    <tr>\n",
              "      <th>count</th>\n",
              "      <td>1.690400e+04</td>\n",
              "    </tr>\n",
              "    <tr>\n",
              "      <th>mean</th>\n",
              "      <td>1.038794e-12</td>\n",
              "    </tr>\n",
              "    <tr>\n",
              "      <th>std</th>\n",
              "      <td>1.397225e+00</td>\n",
              "    </tr>\n",
              "    <tr>\n",
              "      <th>min</th>\n",
              "      <td>-2.520694e+01</td>\n",
              "    </tr>\n",
              "    <tr>\n",
              "      <th>25%</th>\n",
              "      <td>-6.947588e-01</td>\n",
              "    </tr>\n",
              "    <tr>\n",
              "      <th>50%</th>\n",
              "      <td>1.986699e-01</td>\n",
              "    </tr>\n",
              "    <tr>\n",
              "      <th>75%</th>\n",
              "      <td>9.220857e-01</td>\n",
              "    </tr>\n",
              "    <tr>\n",
              "      <th>max</th>\n",
              "      <td>5.092537e+00</td>\n",
              "    </tr>\n",
              "  </tbody>\n",
              "</table>\n",
              "</div>"
            ],
            "text/plain": [
              "                  0\n",
              "count  1.690400e+04\n",
              "mean   1.038794e-12\n",
              "std    1.397225e+00\n",
              "min   -2.520694e+01\n",
              "25%   -6.947588e-01\n",
              "50%    1.986699e-01\n",
              "75%    9.220857e-01\n",
              "max    5.092537e+00"
            ]
          },
          "metadata": {
            "tags": []
          },
          "execution_count": 145
        }
      ]
    },
    {
      "cell_type": "code",
      "metadata": {
        "id": "EN6IvtxQZhNV",
        "outputId": "b11124a0-9852-42b1-c9f4-7c25ea8562be",
        "colab": {
          "base_uri": "https://localhost:8080/"
        }
      },
      "source": [
        "residuals.mean()"
      ],
      "execution_count": 146,
      "outputs": [
        {
          "output_type": "execute_result",
          "data": {
            "text/plain": [
              "1.0382397996494601e-12"
            ]
          },
          "metadata": {
            "tags": []
          },
          "execution_count": 146
        }
      ]
    },
    {
      "cell_type": "markdown",
      "metadata": {
        "id": "LRtrqxEriorP"
      },
      "source": [
        "1.038239e-12 == 6.3791 *10^-6\n",
        "\n",
        "> Our mean is really close to 0 , indicating that we are fairly correct, although slightly over estimating chances."
      ]
    },
    {
      "cell_type": "code",
      "metadata": {
        "id": "o4t1tEd5ZzdU",
        "outputId": "03f2acfd-7226-4c53-d19c-1ebc6c99b212",
        "colab": {
          "base_uri": "https://localhost:8080/",
          "height": 278
        }
      },
      "source": [
        "plt.scatter(y_pred, residuals, color='black')\n",
        "plt.ylabel('residual')\n",
        "plt.xlabel('fitted values')\n",
        "plt.axhline(y= residuals.mean(), color='red', linewidth=1)\n",
        "plt.show()"
      ],
      "execution_count": 147,
      "outputs": [
        {
          "output_type": "display_data",
          "data": {
            "image/png": "[encoded data removed]",
            "text/plain": [
              "<Figure size 432x288 with 1 Axes>"
            ]
          },
          "metadata": {
            "tags": [],
            "needs_background": "light"
          }
        }
      ]
    },
    {
      "cell_type": "markdown",
      "metadata": {
        "id": "twd1HiWufUe0"
      },
      "source": [
        "> the residuals are centered around the mean."
      ]
    },
    {
      "cell_type": "markdown",
      "metadata": {
        "id": "6G7DAfeidQDe"
      },
      "source": [
        "##### Homogenuity"
      ]
    },
    {
      "cell_type": "markdown",
      "metadata": {
        "id": "zlQIJo3QfriT"
      },
      "source": [
        "> Testing heteroskedasticity using the Barlett test our null hypothesis is that the data has equal variance"
      ]
    },
    {
      "cell_type": "code",
      "metadata": {
        "id": "lx4EImDkc3_M",
        "outputId": "98ecfb87-8d56-4114-daaf-5984cee0ef1e",
        "colab": {
          "base_uri": "https://localhost:8080/"
        }
      },
      "source": [
        "test_result, p_value = sp.stats.bartlett(y_pred, residuals)\n",
        "\n",
        "# Interpreting the results by computing the critical value of the chi squared distribution\n",
        "degree_of_freedom = len(y_pred)-1\n",
        "probability = 1 - p_value\n",
        "crit = sp.stats.chi2.ppf(probability, degree_of_freedom)\n",
        "print(crit,test_result)\n",
        "if (test_result > crit):\n",
        "  print('Unequal variances, the model should be reassessed')\n",
        "else:\n",
        "  print('Constant variance , accept null hypothesis')"
      ],
      "execution_count": 117,
      "outputs": [
        {
          "output_type": "stream",
          "text": [
            "inf 7703.195775841209\n",
            "Constant variance , accept null hypothesis\n"
          ],
          "name": "stdout"
        }
      ]
    },
    {
      "cell_type": "markdown",
      "metadata": {
        "id": "_a4DoO7CptF6"
      },
      "source": [
        "#### Model 2: Predict how many goals the away team scores."
      ]
    },
    {
      "cell_type": "code",
      "metadata": {
        "id": "OqspAG1_pvRt"
      },
      "source": [
        "y=merged['away_score']"
      ],
      "execution_count": 119,
      "outputs": []
    },
    {
      "cell_type": "code",
      "metadata": {
        "id": "Z52SvFBcp6mM",
        "outputId": "b6a85e1f-7284-4f80-adc0-7ed08cbbaecf",
        "colab": {
          "base_uri": "https://localhost:8080/"
        }
      },
      "source": [
        "x_train,x_test,y_train,y_test = train_test_split(x,y,test_size=0.3,random_state=0)\n",
        "regressor=LinearRegression()\n",
        "regressor.fit(x_train,y_train)\n",
        "list(regressor.coef_)"
      ],
      "execution_count": 120,
      "outputs": [
        {
          "output_type": "execute_result",
          "data": {
            "text/plain": [
              "[0.009445421927017947, -0.008789882301529738, 0.05033341965152917]"
            ]
          },
          "metadata": {
            "tags": []
          },
          "execution_count": 120
        }
      ]
    },
    {
      "cell_type": "markdown",
      "metadata": {
        "id": "SEQOTLyDqGEO"
      },
      "source": [
        "> The tournament type has a the highest weight on the score of the away team"
      ]
    },
    {
      "cell_type": "code",
      "metadata": {
        "id": "UawHpyXgp7Ci",
        "outputId": "474839ef-cf4b-42a0-b0a8-db7a9b8b40dd",
        "colab": {
          "base_uri": "https://localhost:8080/",
          "height": 287
        }
      },
      "source": [
        "y_pred=regressor.predict(x_test)\n",
        "comp=pd.DataFrame({'Actual':y_test,'Predicted':y_pred})\n",
        "comp.describe()"
      ],
      "execution_count": 121,
      "outputs": [
        {
          "output_type": "execute_result",
          "data": {
            "text/html": [
              "<div>\n",
              "<style scoped>\n",
              "    .dataframe tbody tr th:only-of-type {\n",
              "        vertical-align: middle;\n",
              "    }\n",
              "\n",
              "    .dataframe tbody tr th {\n",
              "        vertical-align: top;\n",
              "    }\n",
              "\n",
              "    .dataframe thead th {\n",
              "        text-align: right;\n",
              "    }\n",
              "</style>\n",
              "<table border=\"1\" class=\"dataframe\">\n",
              "  <thead>\n",
              "    <tr style=\"text-align: right;\">\n",
              "      <th></th>\n",
              "      <th>Actual</th>\n",
              "      <th>Predicted</th>\n",
              "    </tr>\n",
              "  </thead>\n",
              "  <tbody>\n",
              "    <tr>\n",
              "      <th>count</th>\n",
              "      <td>5072.000000</td>\n",
              "      <td>5072.000000</td>\n",
              "    </tr>\n",
              "    <tr>\n",
              "      <th>mean</th>\n",
              "      <td>1.059345</td>\n",
              "      <td>1.055586</td>\n",
              "    </tr>\n",
              "    <tr>\n",
              "      <th>std</th>\n",
              "      <td>1.251238</td>\n",
              "      <td>0.482313</td>\n",
              "    </tr>\n",
              "    <tr>\n",
              "      <th>min</th>\n",
              "      <td>0.000000</td>\n",
              "      <td>-0.744931</td>\n",
              "    </tr>\n",
              "    <tr>\n",
              "      <th>25%</th>\n",
              "      <td>0.000000</td>\n",
              "      <td>0.752912</td>\n",
              "    </tr>\n",
              "    <tr>\n",
              "      <th>50%</th>\n",
              "      <td>1.000000</td>\n",
              "      <td>1.039372</td>\n",
              "    </tr>\n",
              "    <tr>\n",
              "      <th>75%</th>\n",
              "      <td>2.000000</td>\n",
              "      <td>1.338884</td>\n",
              "    </tr>\n",
              "    <tr>\n",
              "      <th>max</th>\n",
              "      <td>15.000000</td>\n",
              "      <td>3.019721</td>\n",
              "    </tr>\n",
              "  </tbody>\n",
              "</table>\n",
              "</div>"
            ],
            "text/plain": [
              "            Actual    Predicted\n",
              "count  5072.000000  5072.000000\n",
              "mean      1.059345     1.055586\n",
              "std       1.251238     0.482313\n",
              "min       0.000000    -0.744931\n",
              "25%       0.000000     0.752912\n",
              "50%       1.000000     1.039372\n",
              "75%       2.000000     1.338884\n",
              "max      15.000000     3.019721"
            ]
          },
          "metadata": {
            "tags": []
          },
          "execution_count": 121
        }
      ]
    },
    {
      "cell_type": "markdown",
      "metadata": {
        "id": "TW9yvrkJqWUy"
      },
      "source": [
        "> The mean values are really similar"
      ]
    },
    {
      "cell_type": "code",
      "metadata": {
        "id": "W5OrMl8oqVav",
        "outputId": "3f736c92-1204-4520-c8ff-17028e5e48e3",
        "colab": {
          "base_uri": "https://localhost:8080/"
        }
      },
      "source": [
        "print('Mean Absolute Error:', metrics.mean_absolute_error(y_test, y_pred))\n",
        "print('Mean Squared Error:', metrics.mean_squared_error(y_test, y_pred))\n",
        "print('Root Mean Squared Error:', np.sqrt(metrics.mean_squared_error(y_test, y_pred)))"
      ],
      "execution_count": 82,
      "outputs": [
        {
          "output_type": "stream",
          "text": [
            "Mean Absolute Error: 0.8514052444037754\n",
            "Mean Squared Error: 1.3258612669636043\n",
            "Root Mean Squared Error: 1.1514604930103352\n"
          ],
          "name": "stdout"
        }
      ]
    },
    {
      "cell_type": "code",
      "metadata": {
        "id": "SgvZKSzHs2tm",
        "outputId": "1b0c282c-99f5-4870-8cfb-8bfecccc9a41",
        "colab": {
          "base_uri": "https://localhost:8080/"
        }
      },
      "source": [
        "regressor.predict([[15,32,0]])"
      ],
      "execution_count": 122,
      "outputs": [
        {
          "output_type": "execute_result",
          "data": {
            "text/plain": [
              "array([0.85941642])"
            ]
          },
          "metadata": {
            "tags": []
          },
          "execution_count": 122
        }
      ]
    },
    {
      "cell_type": "markdown",
      "metadata": {
        "id": "Td-6urxtImO8"
      },
      "source": [
        "> The model predicted a value of 0.85 goals which implies there is a 85% chance of the away team scoring 1 goal"
      ]
    },
    {
      "cell_type": "markdown",
      "metadata": {
        "id": "qG9fzynrqyUs"
      },
      "source": [
        "> cross validation with kfold"
      ]
    },
    {
      "cell_type": "code",
      "metadata": {
        "id": "TXpeo5WGq0Mu",
        "outputId": "1e20a09b-1ed8-49df-850c-ba4de8876fa4",
        "colab": {
          "base_uri": "https://localhost:8080/"
        }
      },
      "source": [
        "x = x.values\n",
        "y = y.values\n",
        "\n",
        "folds = KFold(n_splits=10)\n",
        "\n",
        "rmses = []\n",
        "count = 1\n",
        "for train, test in folds.split(x):\n",
        "  x_train, x_test = x[train], x[test]\n",
        "  y_train, y_test = y[train], y[test]\n",
        "\n",
        "  regressor = LinearRegression()  \n",
        "  regressor.fit(x_train, y_train)\n",
        "  y_pred = regressor.predict(x_test)\n",
        "  \n",
        "  rmse =  np.sqrt(metrics.mean_squared_error(y_test, y_pred))\n",
        "  rmses.append(rmse)\n",
        "  \n",
        "  print('Model',count,' Root Mean Squared Error:',rmse)\n",
        "  count = count + 1"
      ],
      "execution_count": 123,
      "outputs": [
        {
          "output_type": "stream",
          "text": [
            "Model 1  Root Mean Squared Error: 1.1673766317380552\n",
            "Model 2  Root Mean Squared Error: 1.1245414865638796\n",
            "Model 3  Root Mean Squared Error: 1.2099760295954323\n",
            "Model 4  Root Mean Squared Error: 1.146206769377226\n",
            "Model 5  Root Mean Squared Error: 1.1678853875025297\n",
            "Model 6  Root Mean Squared Error: 1.199350625045983\n",
            "Model 7  Root Mean Squared Error: 1.0844049874053858\n",
            "Model 8  Root Mean Squared Error: 1.1600531366440323\n",
            "Model 9  Root Mean Squared Error: 1.1042392667682992\n",
            "Model 10  Root Mean Squared Error: 1.0913164638536237\n"
          ],
          "name": "stdout"
        }
      ]
    },
    {
      "cell_type": "markdown",
      "metadata": {
        "id": "xruNSumQIian"
      },
      "source": [
        "> I used a kfold to see if my RMSE was within scope or was too off, and yes it was within the scope of the 10 models"
      ]
    },
    {
      "cell_type": "code",
      "metadata": {
        "id": "lmOp0GjqrUlU",
        "outputId": "9c59ad08-294f-4457-b711-e9e10ef98a0c",
        "colab": {
          "base_uri": "https://localhost:8080/"
        }
      },
      "source": [
        "polynomial =PolynomialFeatures(degree=6)\n",
        "poly_fit =polynomial.fit_transform(x)\n",
        "\n",
        "regression = LinearRegression()\n",
        "regression.fit(poly_fit, y)\n",
        "\n",
        "y_pred=regression.predict(poly_fit)\n",
        "print('Root Mean Squared Error :', np.sqrt(metrics.mean_squared_error(y, y_pred)))"
      ],
      "execution_count": 124,
      "outputs": [
        {
          "output_type": "stream",
          "text": [
            "Root Mean Squared Error : 1.11537865592265\n"
          ],
          "name": "stdout"
        }
      ]
    },
    {
      "cell_type": "code",
      "metadata": {
        "id": "v74Nhc2ZsXbR",
        "outputId": "4d67966f-ce12-429e-e5fb-7c8c93b3870d",
        "colab": {
          "base_uri": "https://localhost:8080/"
        }
      },
      "source": [
        "regression.predict(polynomial.fit_transform([[15,32,0]]))"
      ],
      "execution_count": 125,
      "outputs": [
        {
          "output_type": "execute_result",
          "data": {
            "text/plain": [
              "array([0.80396519])"
            ]
          },
          "metadata": {
            "tags": []
          },
          "execution_count": 125
        }
      ]
    },
    {
      "cell_type": "markdown",
      "metadata": {
        "id": "VTivjoCmJIgD"
      },
      "source": [
        "> The model predicted aa value of 0.80 goals which implies there is a 80% chance of the away team scoring 1 goal"
      ]
    },
    {
      "cell_type": "markdown",
      "metadata": {
        "id": "485Wt1Nugfrb"
      },
      "source": [
        "###### Residuals"
      ]
    },
    {
      "cell_type": "code",
      "metadata": {
        "id": "id1mOT-GXSma",
        "outputId": "548ecc55-ea54-47c6-8836-9bbfbaee1907",
        "colab": {
          "base_uri": "https://localhost:8080/",
          "height": 287
        }
      },
      "source": [
        "residuals = np.subtract(y_pred, y)\n",
        "pd.DataFrame(residuals).describe()\n"
      ],
      "execution_count": 126,
      "outputs": [
        {
          "output_type": "execute_result",
          "data": {
            "text/html": [
              "<div>\n",
              "<style scoped>\n",
              "    .dataframe tbody tr th:only-of-type {\n",
              "        vertical-align: middle;\n",
              "    }\n",
              "\n",
              "    .dataframe tbody tr th {\n",
              "        vertical-align: top;\n",
              "    }\n",
              "\n",
              "    .dataframe thead th {\n",
              "        text-align: right;\n",
              "    }\n",
              "</style>\n",
              "<table border=\"1\" class=\"dataframe\">\n",
              "  <thead>\n",
              "    <tr style=\"text-align: right;\">\n",
              "      <th></th>\n",
              "      <th>0</th>\n",
              "    </tr>\n",
              "  </thead>\n",
              "  <tbody>\n",
              "    <tr>\n",
              "      <th>count</th>\n",
              "      <td>1.690400e+04</td>\n",
              "    </tr>\n",
              "    <tr>\n",
              "      <th>mean</th>\n",
              "      <td>8.028613e-13</td>\n",
              "    </tr>\n",
              "    <tr>\n",
              "      <th>std</th>\n",
              "      <td>1.115412e+00</td>\n",
              "    </tr>\n",
              "    <tr>\n",
              "      <th>min</th>\n",
              "      <td>-1.198842e+01</td>\n",
              "    </tr>\n",
              "    <tr>\n",
              "      <th>25%</th>\n",
              "      <td>-5.140630e-01</td>\n",
              "    </tr>\n",
              "    <tr>\n",
              "      <th>50%</th>\n",
              "      <td>1.684865e-01</td>\n",
              "    </tr>\n",
              "    <tr>\n",
              "      <th>75%</th>\n",
              "      <td>7.767335e-01</td>\n",
              "    </tr>\n",
              "    <tr>\n",
              "      <th>max</th>\n",
              "      <td>4.247735e+00</td>\n",
              "    </tr>\n",
              "  </tbody>\n",
              "</table>\n",
              "</div>"
            ],
            "text/plain": [
              "                  0\n",
              "count  1.690400e+04\n",
              "mean   8.028613e-13\n",
              "std    1.115412e+00\n",
              "min   -1.198842e+01\n",
              "25%   -5.140630e-01\n",
              "50%    1.684865e-01\n",
              "75%    7.767335e-01\n",
              "max    4.247735e+00"
            ]
          },
          "metadata": {
            "tags": []
          },
          "execution_count": 126
        }
      ]
    },
    {
      "cell_type": "code",
      "metadata": {
        "id": "DdDU2K8zZb2d",
        "outputId": "bad87524-b83c-43c8-fdf4-b4b0226057d0",
        "colab": {
          "base_uri": "https://localhost:8080/"
        }
      },
      "source": [
        "residuals.mean()"
      ],
      "execution_count": 136,
      "outputs": [
        {
          "output_type": "execute_result",
          "data": {
            "text/plain": [
              "8.025078734790501e-13"
            ]
          },
          "metadata": {
            "tags": []
          },
          "execution_count": 136
        }
      ]
    },
    {
      "cell_type": "markdown",
      "metadata": {
        "id": "ZWNWwoNyZU8i"
      },
      "source": [
        "8.025078e-13 == 0.000018139\n",
        ">  Our mean on the other hand is close to 0, indicating that we tend to be fairly correct, although slightly over estimating chances by, on average, 0.17%"
      ]
    },
    {
      "cell_type": "code",
      "metadata": {
        "id": "nkG2wAoXZ7dt",
        "outputId": "dc42c7df-a746-4c64-aa15-d6bf1d35caff",
        "colab": {
          "base_uri": "https://localhost:8080/",
          "height": 278
        }
      },
      "source": [
        "plt.scatter(y_pred, residuals, color='black')\n",
        "plt.ylabel('residual')\n",
        "plt.xlabel('fitted values')\n",
        "plt.axhline(y= residuals.mean(), color='red', linewidth=1)\n",
        "plt.show()"
      ],
      "execution_count": 128,
      "outputs": [
        {
          "output_type": "display_data",
          "data": {
            "image/png": "[encoded data removed]",
            "text/plain": [
              "<Figure size 432x288 with 1 Axes>"
            ]
          },
          "metadata": {
            "tags": [],
            "needs_background": "light"
          }
        }
      ]
    },
    {
      "cell_type": "markdown",
      "metadata": {
        "id": "h0Mw21SAgh6t"
      },
      "source": [
        "> the residuals are centered around the mean.\n",
        "The data also looks like there is a pattern"
      ]
    },
    {
      "cell_type": "markdown",
      "metadata": {
        "id": "53fXXVN9gjtF"
      },
      "source": [
        "##### Homogenuity"
      ]
    },
    {
      "cell_type": "markdown",
      "metadata": {
        "id": "sEZ6OiR5hd3-"
      },
      "source": [
        "> Testing heteroskedasticity using the Barlett test our null hypothesis is that the data has equal variance"
      ]
    },
    {
      "cell_type": "code",
      "metadata": {
        "id": "EI6ymHagbDi0",
        "outputId": "d681acb3-9b7a-435f-93d4-7dc7c6f95f2d",
        "colab": {
          "base_uri": "https://localhost:8080/"
        }
      },
      "source": [
        "test_result, p_value = sp.stats.bartlett(y_pred, residuals)\n",
        "\n",
        "# Interpreting the results by computing the critical value of the chi squared distribution\n",
        "degree_of_freedom = len(y_pred)-1\n",
        "probability = 1 - p_value\n",
        "crit = sp.stats.chi2.ppf(probability, degree_of_freedom)\n",
        "print(crit,test_result)\n",
        "if (test_result > crit):\n",
        "  print('Unequal variances, the model should be reassessed')\n",
        "else:\n",
        "  print('Constant variance , accept null hypothesis')"
      ],
      "execution_count": 130,
      "outputs": [
        {
          "output_type": "stream",
          "text": [
            "inf 7703.195775841209\n",
            "Constant variance , accept null hypothesis\n"
          ],
          "name": "stdout"
        }
      ]
    },
    {
      "cell_type": "markdown",
      "metadata": {
        "id": "oCqV9BOJtndW"
      },
      "source": [
        "### Logistic Regresion"
      ]
    },
    {
      "cell_type": "code",
      "metadata": {
        "id": "hYHiEOmZ1q0c"
      },
      "source": [
        "from sklearn.linear_model import LogisticRegression\n",
        "from sklearn.metrics import confusion_matrix"
      ],
      "execution_count": null,
      "outputs": []
    },
    {
      "cell_type": "code",
      "metadata": {
        "id": "8uYwgC8OtqAz",
        "outputId": "fd3aeb97-0da8-4532-ee7b-f64dc6ef2463",
        "colab": {
          "base_uri": "https://localhost:8080/",
          "height": 416
        }
      },
      "source": [
        "logics=merged[['home_team','home_score','away_team','away_score','year','home_rank','away_rank','tournament']]\n",
        "logics"
      ],
      "execution_count": null,
      "outputs": [
        {
          "output_type": "execute_result",
          "data": {
            "text/html": [
              "<div>\n",
              "<style scoped>\n",
              "    .dataframe tbody tr th:only-of-type {\n",
              "        vertical-align: middle;\n",
              "    }\n",
              "\n",
              "    .dataframe tbody tr th {\n",
              "        vertical-align: top;\n",
              "    }\n",
              "\n",
              "    .dataframe thead th {\n",
              "        text-align: right;\n",
              "    }\n",
              "</style>\n",
              "<table border=\"1\" class=\"dataframe\">\n",
              "  <thead>\n",
              "    <tr style=\"text-align: right;\">\n",
              "      <th></th>\n",
              "      <th>home_team</th>\n",
              "      <th>home_score</th>\n",
              "      <th>away_team</th>\n",
              "      <th>away_score</th>\n",
              "      <th>year</th>\n",
              "      <th>home_rank</th>\n",
              "      <th>away_rank</th>\n",
              "      <th>tournament</th>\n",
              "    </tr>\n",
              "  </thead>\n",
              "  <tbody>\n",
              "    <tr>\n",
              "      <th>0</th>\n",
              "      <td>Sweden</td>\n",
              "      <td>1</td>\n",
              "      <td>Switzerland</td>\n",
              "      <td>2</td>\n",
              "      <td>1993</td>\n",
              "      <td>4</td>\n",
              "      <td>3</td>\n",
              "      <td>Friendly</td>\n",
              "    </tr>\n",
              "    <tr>\n",
              "      <th>1</th>\n",
              "      <td>Sweden</td>\n",
              "      <td>1</td>\n",
              "      <td>France</td>\n",
              "      <td>1</td>\n",
              "      <td>1993</td>\n",
              "      <td>4</td>\n",
              "      <td>12</td>\n",
              "      <td>world cup</td>\n",
              "    </tr>\n",
              "    <tr>\n",
              "      <th>2</th>\n",
              "      <td>Argentina</td>\n",
              "      <td>2</td>\n",
              "      <td>Peru</td>\n",
              "      <td>1</td>\n",
              "      <td>1993</td>\n",
              "      <td>5</td>\n",
              "      <td>70</td>\n",
              "      <td>world cup</td>\n",
              "    </tr>\n",
              "    <tr>\n",
              "      <th>3</th>\n",
              "      <td>Argentina</td>\n",
              "      <td>0</td>\n",
              "      <td>Paraguay</td>\n",
              "      <td>0</td>\n",
              "      <td>1993</td>\n",
              "      <td>5</td>\n",
              "      <td>67</td>\n",
              "      <td>world cup</td>\n",
              "    </tr>\n",
              "    <tr>\n",
              "      <th>4</th>\n",
              "      <td>Brazil</td>\n",
              "      <td>1</td>\n",
              "      <td>Mexico</td>\n",
              "      <td>1</td>\n",
              "      <td>1993</td>\n",
              "      <td>8</td>\n",
              "      <td>14</td>\n",
              "      <td>Friendly</td>\n",
              "    </tr>\n",
              "    <tr>\n",
              "      <th>...</th>\n",
              "      <td>...</td>\n",
              "      <td>...</td>\n",
              "      <td>...</td>\n",
              "      <td>...</td>\n",
              "      <td>...</td>\n",
              "      <td>...</td>\n",
              "      <td>...</td>\n",
              "      <td>...</td>\n",
              "    </tr>\n",
              "    <tr>\n",
              "      <th>16952</th>\n",
              "      <td>Angola</td>\n",
              "      <td>0</td>\n",
              "      <td>Malawi</td>\n",
              "      <td>0</td>\n",
              "      <td>2018</td>\n",
              "      <td>137</td>\n",
              "      <td>123</td>\n",
              "      <td>other</td>\n",
              "    </tr>\n",
              "    <tr>\n",
              "      <th>16953</th>\n",
              "      <td>Botswana</td>\n",
              "      <td>6</td>\n",
              "      <td>Mauritius</td>\n",
              "      <td>0</td>\n",
              "      <td>2018</td>\n",
              "      <td>139</td>\n",
              "      <td>155</td>\n",
              "      <td>other</td>\n",
              "    </tr>\n",
              "    <tr>\n",
              "      <th>16954</th>\n",
              "      <td>Lesotho</td>\n",
              "      <td>0</td>\n",
              "      <td>Zimbabwe</td>\n",
              "      <td>0</td>\n",
              "      <td>2018</td>\n",
              "      <td>147</td>\n",
              "      <td>118</td>\n",
              "      <td>other</td>\n",
              "    </tr>\n",
              "    <tr>\n",
              "      <th>16955</th>\n",
              "      <td>Barbados</td>\n",
              "      <td>0</td>\n",
              "      <td>Belize</td>\n",
              "      <td>0</td>\n",
              "      <td>2018</td>\n",
              "      <td>160</td>\n",
              "      <td>163</td>\n",
              "      <td>Friendly</td>\n",
              "    </tr>\n",
              "    <tr>\n",
              "      <th>16956</th>\n",
              "      <td>Malta</td>\n",
              "      <td>0</td>\n",
              "      <td>Georgia</td>\n",
              "      <td>1</td>\n",
              "      <td>2018</td>\n",
              "      <td>184</td>\n",
              "      <td>96</td>\n",
              "      <td>Friendly</td>\n",
              "    </tr>\n",
              "  </tbody>\n",
              "</table>\n",
              "<p>16904 rows × 8 columns</p>\n",
              "</div>"
            ],
            "text/plain": [
              "       home_team  home_score    away_team  ...  home_rank  away_rank  tournament\n",
              "0         Sweden           1  Switzerland  ...          4          3    Friendly\n",
              "1         Sweden           1       France  ...          4         12   world cup\n",
              "2      Argentina           2         Peru  ...          5         70   world cup\n",
              "3      Argentina           0     Paraguay  ...          5         67   world cup\n",
              "4         Brazil           1       Mexico  ...          8         14    Friendly\n",
              "...          ...         ...          ...  ...        ...        ...         ...\n",
              "16952     Angola           0       Malawi  ...        137        123       other\n",
              "16953   Botswana           6    Mauritius  ...        139        155       other\n",
              "16954    Lesotho           0     Zimbabwe  ...        147        118       other\n",
              "16955   Barbados           0       Belize  ...        160        163    Friendly\n",
              "16956      Malta           0      Georgia  ...        184         96    Friendly\n",
              "\n",
              "[16904 rows x 8 columns]"
            ]
          },
          "metadata": {
            "tags": []
          },
          "execution_count": 316
        }
      ]
    },
    {
      "cell_type": "markdown",
      "metadata": {
        "id": "wW7SoH46za6Y"
      },
      "source": [
        "Creating Dummies for the tournament column"
      ]
    },
    {
      "cell_type": "code",
      "metadata": {
        "id": "rEmwn3qPw63S",
        "outputId": "c07b34dd-c5c6-41b3-9124-8f52accf6df9",
        "colab": {
          "base_uri": "https://localhost:8080/"
        }
      },
      "source": [
        "tournamnt = pd.get_dummies(logics['tournament'],drop_first=True)\n",
        "logics.drop('tournament',axis=1,inplace=True)\n",
        "logics=pd.concat([logics,tournamnt],axis=1)"
      ],
      "execution_count": null,
      "outputs": [
        {
          "output_type": "stream",
          "text": [
            "/usr/local/lib/python3.6/dist-packages/pandas/core/frame.py:4174: SettingWithCopyWarning: \n",
            "A value is trying to be set on a copy of a slice from a DataFrame\n",
            "\n",
            "See the caveats in the documentation: https://pandas.pydata.org/pandas-docs/stable/user_guide/indexing.html#returning-a-view-versus-a-copy\n",
            "  errors=errors,\n"
          ],
          "name": "stderr"
        }
      ]
    },
    {
      "cell_type": "markdown",
      "metadata": {
        "id": "yJw4erWG2FOh"
      },
      "source": [
        "label encoding the status column "
      ]
    },
    {
      "cell_type": "code",
      "metadata": {
        "id": "TRysKWcUzkDp"
      },
      "source": [
        "def status(x,y):\n",
        "  if x>y:\n",
        "    return 'win'\n",
        "  elif x<y:\n",
        "    return 'lost'\n",
        "  else:\n",
        "    return 'draw'"
      ],
      "execution_count": null,
      "outputs": []
    },
    {
      "cell_type": "code",
      "metadata": {
        "id": "LK8Eh18hzblT"
      },
      "source": [
        "logics['status']=logics.apply(lambda x: status(x['home_score'],x['away_score']),axis=1)"
      ],
      "execution_count": null,
      "outputs": []
    },
    {
      "cell_type": "code",
      "metadata": {
        "id": "X9m_MxJd2NvK"
      },
      "source": [
        "logics['status']=le.fit_transform(logics['status'])"
      ],
      "execution_count": null,
      "outputs": []
    },
    {
      "cell_type": "markdown",
      "metadata": {
        "id": "YK4acarp2gG0"
      },
      "source": [
        "> Label encodings\n",
        "*  Draw =0\n",
        "*  lost =1\n",
        "*  Won  =2"
      ]
    },
    {
      "cell_type": "code",
      "metadata": {
        "id": "tgAWtcnGyZYv",
        "outputId": "6040ab33-ea02-4f58-d7c7-4a79a2720487",
        "colab": {
          "base_uri": "https://localhost:8080/",
          "height": 662
        }
      },
      "source": [
        "plt.subplots(figsize=(10,10))\n",
        "sns.heatmap(logics.corr(),annot=True)"
      ],
      "execution_count": null,
      "outputs": [
        {
          "output_type": "execute_result",
          "data": {
            "text/plain": [
              "<matplotlib.axes._subplots.AxesSubplot at 0x7f5a44ca9e80>"
            ]
          },
          "metadata": {
            "tags": []
          },
          "execution_count": 321
        },
        {
          "output_type": "display_data",
          "data": {
            "image/png": "[encoded data removed]",
            "text/plain": [
              "<Figure size 720x720 with 2 Axes>"
            ]
          },
          "metadata": {
            "tags": [],
            "needs_background": "light"
          }
        }
      ]
    },
    {
      "cell_type": "markdown",
      "metadata": {
        "id": "K34k0ZHp24G5"
      },
      "source": [
        "> There is a high correlation bebtween the status of the game and the home team meaning they are not independent of each other. Therefore i will not be including home score in my feature set"
      ]
    },
    {
      "cell_type": "code",
      "metadata": {
        "id": "Z9iUOMiY171y",
        "outputId": "950a101f-9ad3-4074-f716-7e110f2271d0",
        "colab": {
          "base_uri": "https://localhost:8080/",
          "height": 416
        }
      },
      "source": [
        "logics"
      ],
      "execution_count": null,
      "outputs": [
        {
          "output_type": "execute_result",
          "data": {
            "text/html": [
              "<div>\n",
              "<style scoped>\n",
              "    .dataframe tbody tr th:only-of-type {\n",
              "        vertical-align: middle;\n",
              "    }\n",
              "\n",
              "    .dataframe tbody tr th {\n",
              "        vertical-align: top;\n",
              "    }\n",
              "\n",
              "    .dataframe thead th {\n",
              "        text-align: right;\n",
              "    }\n",
              "</style>\n",
              "<table border=\"1\" class=\"dataframe\">\n",
              "  <thead>\n",
              "    <tr style=\"text-align: right;\">\n",
              "      <th></th>\n",
              "      <th>home_team</th>\n",
              "      <th>home_score</th>\n",
              "      <th>away_team</th>\n",
              "      <th>away_score</th>\n",
              "      <th>year</th>\n",
              "      <th>home_rank</th>\n",
              "      <th>away_rank</th>\n",
              "      <th>other</th>\n",
              "      <th>world cup</th>\n",
              "      <th>status</th>\n",
              "    </tr>\n",
              "  </thead>\n",
              "  <tbody>\n",
              "    <tr>\n",
              "      <th>0</th>\n",
              "      <td>Sweden</td>\n",
              "      <td>1</td>\n",
              "      <td>Switzerland</td>\n",
              "      <td>2</td>\n",
              "      <td>1993</td>\n",
              "      <td>4</td>\n",
              "      <td>3</td>\n",
              "      <td>0</td>\n",
              "      <td>0</td>\n",
              "      <td>1</td>\n",
              "    </tr>\n",
              "    <tr>\n",
              "      <th>1</th>\n",
              "      <td>Sweden</td>\n",
              "      <td>1</td>\n",
              "      <td>France</td>\n",
              "      <td>1</td>\n",
              "      <td>1993</td>\n",
              "      <td>4</td>\n",
              "      <td>12</td>\n",
              "      <td>0</td>\n",
              "      <td>1</td>\n",
              "      <td>0</td>\n",
              "    </tr>\n",
              "    <tr>\n",
              "      <th>2</th>\n",
              "      <td>Argentina</td>\n",
              "      <td>2</td>\n",
              "      <td>Peru</td>\n",
              "      <td>1</td>\n",
              "      <td>1993</td>\n",
              "      <td>5</td>\n",
              "      <td>70</td>\n",
              "      <td>0</td>\n",
              "      <td>1</td>\n",
              "      <td>2</td>\n",
              "    </tr>\n",
              "    <tr>\n",
              "      <th>3</th>\n",
              "      <td>Argentina</td>\n",
              "      <td>0</td>\n",
              "      <td>Paraguay</td>\n",
              "      <td>0</td>\n",
              "      <td>1993</td>\n",
              "      <td>5</td>\n",
              "      <td>67</td>\n",
              "      <td>0</td>\n",
              "      <td>1</td>\n",
              "      <td>0</td>\n",
              "    </tr>\n",
              "    <tr>\n",
              "      <th>4</th>\n",
              "      <td>Brazil</td>\n",
              "      <td>1</td>\n",
              "      <td>Mexico</td>\n",
              "      <td>1</td>\n",
              "      <td>1993</td>\n",
              "      <td>8</td>\n",
              "      <td>14</td>\n",
              "      <td>0</td>\n",
              "      <td>0</td>\n",
              "      <td>0</td>\n",
              "    </tr>\n",
              "    <tr>\n",
              "      <th>...</th>\n",
              "      <td>...</td>\n",
              "      <td>...</td>\n",
              "      <td>...</td>\n",
              "      <td>...</td>\n",
              "      <td>...</td>\n",
              "      <td>...</td>\n",
              "      <td>...</td>\n",
              "      <td>...</td>\n",
              "      <td>...</td>\n",
              "      <td>...</td>\n",
              "    </tr>\n",
              "    <tr>\n",
              "      <th>16952</th>\n",
              "      <td>Angola</td>\n",
              "      <td>0</td>\n",
              "      <td>Malawi</td>\n",
              "      <td>0</td>\n",
              "      <td>2018</td>\n",
              "      <td>137</td>\n",
              "      <td>123</td>\n",
              "      <td>1</td>\n",
              "      <td>0</td>\n",
              "      <td>0</td>\n",
              "    </tr>\n",
              "    <tr>\n",
              "      <th>16953</th>\n",
              "      <td>Botswana</td>\n",
              "      <td>6</td>\n",
              "      <td>Mauritius</td>\n",
              "      <td>0</td>\n",
              "      <td>2018</td>\n",
              "      <td>139</td>\n",
              "      <td>155</td>\n",
              "      <td>1</td>\n",
              "      <td>0</td>\n",
              "      <td>2</td>\n",
              "    </tr>\n",
              "    <tr>\n",
              "      <th>16954</th>\n",
              "      <td>Lesotho</td>\n",
              "      <td>0</td>\n",
              "      <td>Zimbabwe</td>\n",
              "      <td>0</td>\n",
              "      <td>2018</td>\n",
              "      <td>147</td>\n",
              "      <td>118</td>\n",
              "      <td>1</td>\n",
              "      <td>0</td>\n",
              "      <td>0</td>\n",
              "    </tr>\n",
              "    <tr>\n",
              "      <th>16955</th>\n",
              "      <td>Barbados</td>\n",
              "      <td>0</td>\n",
              "      <td>Belize</td>\n",
              "      <td>0</td>\n",
              "      <td>2018</td>\n",
              "      <td>160</td>\n",
              "      <td>163</td>\n",
              "      <td>0</td>\n",
              "      <td>0</td>\n",
              "      <td>0</td>\n",
              "    </tr>\n",
              "    <tr>\n",
              "      <th>16956</th>\n",
              "      <td>Malta</td>\n",
              "      <td>0</td>\n",
              "      <td>Georgia</td>\n",
              "      <td>1</td>\n",
              "      <td>2018</td>\n",
              "      <td>184</td>\n",
              "      <td>96</td>\n",
              "      <td>0</td>\n",
              "      <td>0</td>\n",
              "      <td>1</td>\n",
              "    </tr>\n",
              "  </tbody>\n",
              "</table>\n",
              "<p>16904 rows × 10 columns</p>\n",
              "</div>"
            ],
            "text/plain": [
              "       home_team  home_score    away_team  ...  other  world cup  status\n",
              "0         Sweden           1  Switzerland  ...      0          0       1\n",
              "1         Sweden           1       France  ...      0          1       0\n",
              "2      Argentina           2         Peru  ...      0          1       2\n",
              "3      Argentina           0     Paraguay  ...      0          1       0\n",
              "4         Brazil           1       Mexico  ...      0          0       0\n",
              "...          ...         ...          ...  ...    ...        ...     ...\n",
              "16952     Angola           0       Malawi  ...      1          0       0\n",
              "16953   Botswana           6    Mauritius  ...      1          0       2\n",
              "16954    Lesotho           0     Zimbabwe  ...      1          0       0\n",
              "16955   Barbados           0       Belize  ...      0          0       0\n",
              "16956      Malta           0      Georgia  ...      0          0       1\n",
              "\n",
              "[16904 rows x 10 columns]"
            ]
          },
          "metadata": {
            "tags": []
          },
          "execution_count": 322
        }
      ]
    },
    {
      "cell_type": "code",
      "metadata": {
        "id": "dSLQ-2dL1zGo"
      },
      "source": [
        "x=logics.drop(['status','home_team','away_team','home_score'],axis=1)\n",
        "y=logics['status']"
      ],
      "execution_count": null,
      "outputs": []
    },
    {
      "cell_type": "code",
      "metadata": {
        "id": "YBO6Aoy61lry",
        "outputId": "54d54066-2521-4210-d279-f68932871190",
        "colab": {
          "base_uri": "https://localhost:8080/"
        }
      },
      "source": [
        "x_train, x_test, y_train, y_test = train_test_split(x, y, test_size =0.3, random_state=0)\n",
        "logistic = LogisticRegression()\n",
        "logistic.fit(x_train, y_train)\n"
      ],
      "execution_count": null,
      "outputs": [
        {
          "output_type": "stream",
          "text": [
            "/usr/local/lib/python3.6/dist-packages/sklearn/linear_model/_logistic.py:940: ConvergenceWarning: lbfgs failed to converge (status=1):\n",
            "STOP: TOTAL NO. of ITERATIONS REACHED LIMIT.\n",
            "\n",
            "Increase the number of iterations (max_iter) or scale the data as shown in:\n",
            "    https://scikit-learn.org/stable/modules/preprocessing.html\n",
            "Please also refer to the documentation for alternative solver options:\n",
            "    https://scikit-learn.org/stable/modules/linear_model.html#logistic-regression\n",
            "  extra_warning_msg=_LOGISTIC_SOLVER_CONVERGENCE_MSG)\n"
          ],
          "name": "stderr"
        },
        {
          "output_type": "execute_result",
          "data": {
            "text/plain": [
              "LogisticRegression(C=1.0, class_weight=None, dual=False, fit_intercept=True,\n",
              "                   intercept_scaling=1, l1_ratio=None, max_iter=100,\n",
              "                   multi_class='auto', n_jobs=None, penalty='l2',\n",
              "                   random_state=None, solver='lbfgs', tol=0.0001, verbose=0,\n",
              "                   warm_start=False)"
            ]
          },
          "metadata": {
            "tags": []
          },
          "execution_count": 324
        }
      ]
    },
    {
      "cell_type": "code",
      "metadata": {
        "id": "jcZwpN8P4Tlb",
        "outputId": "041060b6-6a93-47f1-b7ee-bba885917282",
        "colab": {
          "base_uri": "https://localhost:8080/"
        }
      },
      "source": [
        "confused=confusion_matrix(y_test, y_pred)\n",
        "confused"
      ],
      "execution_count": null,
      "outputs": [
        {
          "output_type": "execute_result",
          "data": {
            "text/plain": [
              "array([[ 199,  207,  803],\n",
              "       [ 125, 1057,  217],\n",
              "       [ 147,  142, 2175]])"
            ]
          },
          "metadata": {
            "tags": []
          },
          "execution_count": 325
        }
      ]
    },
    {
      "cell_type": "code",
      "metadata": {
        "id": "L7lc3o0YBUyA",
        "outputId": "c1b38d5e-db34-43d0-d74f-7e12e3b6ebda",
        "colab": {
          "base_uri": "https://localhost:8080/",
          "height": 282
        }
      },
      "source": [
        "sns.heatmap(confused,annot=True)"
      ],
      "execution_count": null,
      "outputs": [
        {
          "output_type": "execute_result",
          "data": {
            "text/plain": [
              "<matplotlib.axes._subplots.AxesSubplot at 0x7f5a4486b4e0>"
            ]
          },
          "metadata": {
            "tags": []
          },
          "execution_count": 326
        },
        {
          "output_type": "display_data",
          "data": {
            "image/png": "[encoded data removed]",
            "text/plain": [
              "<Figure size 432x288 with 2 Axes>"
            ]
          },
          "metadata": {
            "tags": [],
            "needs_background": "light"
          }
        }
      ]
    },
    {
      "cell_type": "markdown",
      "metadata": {
        "id": "xdMI5ZOgCcNI"
      },
      "source": [
        "* 199 draws were accurately, 207 were predicted as a loss while 803 were predicted as a win\n",
        "* 125 losses were predicted as a draw ,1057 were accurately predicted while 217 were predicted as wins \n",
        "* 147 wins were predicted as draws,142 as losses while 2175 were accurately predicted"
      ]
    },
    {
      "cell_type": "markdown",
      "metadata": {
        "id": "fTI03tXWlLMY"
      },
      "source": [
        "## Evaluating the solution"
      ]
    },
    {
      "cell_type": "markdown",
      "metadata": {
        "id": "EhM8T6K3lPSO"
      },
      "source": [
        "> There is room for improvement for the models especiallty in the logistic model for instance when predicting draws more were predicted wrong."
      ]
    },
    {
      "cell_type": "markdown",
      "metadata": {
        "id": "D4H1gdf8J0Aa"
      },
      "source": [
        "## Conclusion"
      ]
    },
    {
      "cell_type": "markdown",
      "metadata": {
        "id": "crThb-I7koIX"
      },
      "source": [
        "\n",
        ">From the polynomial models we can say teams prevail more in their home grounds"
      ]
    }
  ]
}